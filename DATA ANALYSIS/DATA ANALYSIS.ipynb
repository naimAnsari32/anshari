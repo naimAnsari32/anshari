{
 "cells": [
  {
   "cell_type": "code",
   "execution_count": 1,
   "metadata": {},
   "outputs": [
    {
     "name": "stdout",
     "output_type": "stream",
     "text": [
      "   Employee_ID           Name  Age Department  Salary Joining_Date  \\\n",
      "0          101       John Doe   28         IT   50000   2018-06-15   \n",
      "1          102     Jane Smith   32         HR   60000   2016-09-23   \n",
      "2          103    Emily Davis   45    Finance   80000   2012-11-04   \n",
      "3          104  Michael Brown   29         IT   55000   2019-07-12   \n",
      "4          105   Chris Wilson   35  Marketing   62000   2015-03-19   \n",
      "\n",
      "            City  \n",
      "0       New York  \n",
      "1    Los Angeles  \n",
      "2        Chicago  \n",
      "3       New York  \n",
      "4  San Francisco  \n"
     ]
    }
   ],
   "source": [
    "### 1. Load and Display the Dataset  \n",
    "#- Read the CSV file (`employees.csv`) into a Pandas **DataFrame**.  \n",
    "#- Display the **first 5 rows** using `head()`. \n",
    "\n",
    "import pandas as pd\n",
    "employees=pd.read_csv(\"employees.csv\")\n",
    "print(employees.head())"
   ]
  },
  {
   "cell_type": "code",
   "execution_count": 2,
   "metadata": {},
   "outputs": [
    {
     "name": "stdout",
     "output_type": "stream",
     "text": [
      "Average Age: 35.75\n",
      "Average Salary: 65375.0\n",
      "Oldest Employee: David Lee\n",
      "Youngest Employee: Robert White\n"
     ]
    }
   ],
   "source": [
    "### 2. Find Basic Statistics of the Dataset  \n",
    "#- Calculate the **average age** and **average salary** of employees.  \n",
    "#- Find the **oldest and youngest employee** in the dataset.  \n",
    "\n",
    "# Calculate average age and salary\n",
    "average_age = employees['Age'].mean()\n",
    "average_salary = employees['Salary'].mean()\n",
    "print(f\"Average Age: {average_age}\")\n",
    "print(f\"Average Salary: {average_salary}\")\n",
    "\n",
    "# Find oldest and youngest employee\n",
    "oldest_employee = employees.loc[employees['Age'].idxmax()]\n",
    "youngest_employee = employees.loc[employees['Age'].idxmin()]\n",
    "print(f\"Oldest Employee: {oldest_employee['Name']}\")\n",
    "print(f\"Youngest Employee: {youngest_employee['Name']}\")\n"
   ]
  },
  {
   "cell_type": "code",
   "execution_count": 3,
   "metadata": {},
   "outputs": [
    {
     "name": "stdout",
     "output_type": "stream",
     "text": [
      "   Employee_ID           Name  Age Department  Salary Joining_Date      City\n",
      "0          101       John Doe   28         IT   50000   2018-06-15  New York\n",
      "3          104  Michael Brown   29         IT   55000   2019-07-12  New York\n",
      "Average Salary of IT Employees: 52500.0\n"
     ]
    }
   ],
   "source": [
    "### 3. Find Employees in a Specific Department  \n",
    "#- Filter the **IT department** employees and display their details.  \n",
    "#- Find the **average salary of IT employees**.\n",
    "\n",
    "# Filter IT department employees\n",
    "it_employees = employees[employees['Department'] == 'IT']\n",
    "print(it_employees)\n",
    "\n",
    "# Average salary of IT employees\n",
    "average_it_salary = it_employees['Salary'].mean()\n",
    "print(f\"Average Salary of IT Employees: {average_it_salary}\")"
   ]
  },
  {
   "cell_type": "code",
   "execution_count": 4,
   "metadata": {},
   "outputs": [
    {
     "name": "stdout",
     "output_type": "stream",
     "text": [
      "Department\n",
      "Finance      2\n",
      "HR           2\n",
      "IT           2\n",
      "Marketing    2\n",
      "Name: Employee_ID, dtype: int64\n",
      "Department with most employees: Finance\n"
     ]
    }
   ],
   "source": [
    "### 4. Count Employees in Each Department  \n",
    "#- Group the data by **Department** and count the number of employees in each department.  \n",
    "#- Display the department with the **highest number of employees**. \n",
    "\n",
    "# Group by department and count employees\n",
    "department_counts = employees.groupby('Department')['Employee_ID'].count()\n",
    "print(department_counts)\n",
    "\n",
    "# Department with the highest number of employees\n",
    "department_with_most_employees = department_counts.idxmax()\n",
    "print(f\"Department with most employees: {department_with_most_employees}\")"
   ]
  },
  {
   "cell_type": "code",
   "execution_count": 5,
   "metadata": {},
   "outputs": [
    {
     "name": "stdout",
     "output_type": "stream",
     "text": [
      "  Department           Name  Salary\n",
      "6    Finance      David Lee   95000\n",
      "5         HR  Sarah Johnson   72000\n",
      "3         IT  Michael Brown   55000\n",
      "4  Marketing   Chris Wilson   62000\n"
     ]
    }
   ],
   "source": [
    "### 5. Find the Highest Paid Employee in Each Department  \n",
    "#- Use Pandas to **group the data by Department** and find the employee with the **highest salary** in each department.\n",
    "\n",
    "# Group by department and find highest salary\n",
    "highest_paid_by_department = employees.loc[employees.groupby('Department')['Salary'].idxmax()]\n",
    "print(highest_paid_by_department[['Department', 'Name', 'Salary']])"
   ]
  },
  {
   "cell_type": "code",
   "execution_count": 6,
   "metadata": {},
   "outputs": [
    {
     "name": "stdout",
     "output_type": "stream",
     "text": [
      "            Name Joining_Date  Years_of_Experience\n",
      "0       John Doe   2018-06-15             6.743326\n",
      "1     Jane Smith   2016-09-23             8.468172\n",
      "2    Emily Davis   2012-11-04            12.353183\n",
      "3  Michael Brown   2019-07-12             5.670089\n",
      "4   Chris Wilson   2015-03-19             9.984942\n",
      "5  Sarah Johnson   2014-05-28            10.792608\n",
      "6      David Lee   2010-12-17            14.236824\n",
      "7   Robert White   2020-08-01             4.613279\n"
     ]
    }
   ],
   "source": [
    "### 6. Add a New Column: Years of Experience  \n",
    "#- Calculate the **years of experience** of each employee using their **Joining_Date**.  \n",
    "#- Add a new column called **\"Years_of_Experience\"**.  \n",
    "\n",
    "\n",
    "# Calculate years of experience\n",
    "employees['Joining_Date'] = pd.to_datetime(employees['Joining_Date']) \n",
    "employees['Years_of_Experience'] = (pd.to_datetime('today') - employees['Joining_Date']).dt.days / 365.25  \n",
    "print(employees[['Name', 'Joining_Date', 'Years_of_Experience']])"
   ]
  },
  {
   "cell_type": "code",
   "execution_count": 7,
   "metadata": {},
   "outputs": [
    {
     "name": "stdout",
     "output_type": "stream",
     "text": [
      "   Employee_ID           Name  Age Department  Salary Joining_Date  \\\n",
      "2          103    Emily Davis   45    Finance   80000   2012-11-04   \n",
      "5          106  Sarah Johnson   40         HR   72000   2014-05-28   \n",
      "6          107      David Lee   50    Finance   95000   2010-12-17   \n",
      "\n",
      "          City  Years_of_Experience  \n",
      "2      Chicago            12.353183  \n",
      "5  Los Angeles            10.792608  \n",
      "6      Chicago            14.236824  \n"
     ]
    }
   ],
   "source": [
    "### 7. Find Employees Who Joined Before 2015  \n",
    "#- Extract all employees who joined the company **before 2015**.  \n",
    "\n",
    "# Filter employees who joined before 2015\n",
    "employees_before_2015 = employees[employees['Joining_Date'].dt.year < 2015]\n",
    "print(employees_before_2015)\n"
   ]
  },
  {
   "cell_type": "code",
   "execution_count": 8,
   "metadata": {},
   "outputs": [
    {
     "name": "stdout",
     "output_type": "stream",
     "text": [
      "            Name  Salary\n",
      "6      David Lee   95000\n",
      "2    Emily Davis   80000\n",
      "5  Sarah Johnson   72000\n",
      "4   Chris Wilson   62000\n",
      "1     Jane Smith   60000\n",
      "3  Michael Brown   55000\n",
      "0       John Doe   50000\n",
      "7   Robert White   49000\n"
     ]
    }
   ],
   "source": [
    "### 8. Sort Employees by Salary (Highest to Lowest)  \n",
    "#- Sort the dataset by **Salary** in descending order and display the top 5 highest-paid employees. \n",
    "\n",
    "# Sort by salary in descending order\n",
    "sorted_employees = employees.sort_values(by=['Salary'], ascending=False)\n",
    "print(sorted_employees[['Name', 'Salary']]) "
   ]
  },
  {
   "cell_type": "code",
   "execution_count": 9,
   "metadata": {},
   "outputs": [
    {
     "name": "stdout",
     "output_type": "stream",
     "text": [
      "   Employee_ID           Name   Age Department        Salary Joining_Date  \\\n",
      "0          101       John Doe  28.0         IT  50000.000000   2018-06-15   \n",
      "1          102     Jane Smith  32.0         HR  60000.000000   2016-09-23   \n",
      "2          103    Emily Davis  32.0    Finance  80000.000000   2012-11-04   \n",
      "3          104  Michael Brown  29.0         IT  55000.000000   2019-07-12   \n",
      "4          105   Chris Wilson  35.0  Marketing  65857.142857   2015-03-19   \n",
      "5          106  Sarah Johnson  40.0         HR  72000.000000   2014-05-28   \n",
      "6          107      David Lee  50.0    Finance  95000.000000   2010-12-17   \n",
      "7          108   Robert White  27.0  Marketing  49000.000000   2020-08-01   \n",
      "\n",
      "            City  Years_of_Experience  \n",
      "0       New York             6.743326  \n",
      "1    Los Angeles             8.468172  \n",
      "2        Chicago            12.353183  \n",
      "3       New York             5.670089  \n",
      "4  San Francisco             9.984942  \n",
      "5    Los Angeles            10.792608  \n",
      "6        Chicago            14.236824  \n",
      "7  San Francisco             4.613279  \n"
     ]
    },
    {
     "name": "stderr",
     "output_type": "stream",
     "text": [
      "C:\\Users\\kikuj\\AppData\\Local\\Temp\\ipykernel_13844\\780680529.py:13: FutureWarning: A value is trying to be set on a copy of a DataFrame or Series through chained assignment using an inplace method.\n",
      "The behavior will change in pandas 3.0. This inplace method will never work because the intermediate object on which we are setting values always behaves as a copy.\n",
      "\n",
      "For example, when doing 'df[col].method(value, inplace=True)', try using 'df.method({col: value}, inplace=True)' or df[col] = df[col].method(value) instead, to perform the operation inplace on the original object.\n",
      "\n",
      "\n",
      "  employees['Salary'].fillna(employees['Salary'].mean(), inplace=True)\n",
      "C:\\Users\\kikuj\\AppData\\Local\\Temp\\ipykernel_13844\\780680529.py:15: FutureWarning: A value is trying to be set on a copy of a DataFrame or Series through chained assignment using an inplace method.\n",
      "The behavior will change in pandas 3.0. This inplace method will never work because the intermediate object on which we are setting values always behaves as a copy.\n",
      "\n",
      "For example, when doing 'df[col].method(value, inplace=True)', try using 'df.method({col: value}, inplace=True)' or df[col] = df[col].method(value) instead, to perform the operation inplace on the original object.\n",
      "\n",
      "\n",
      "  employees['Age'].fillna(employees['Age'].median(), inplace=True)\n"
     ]
    }
   ],
   "source": [
    "### 9. Find Missing Values and Handle Them  \n",
    "#- Modify the dataset by adding some missing values (`NaN`).  \n",
    "#- Find and **fill the missing values** using appropriate methods (mean, median, or a default value).\n",
    "\n",
    "import numpy as np\n",
    "\n",
    "# Introduce some missing values (NaN)\n",
    "employees.loc[employees.sample(frac=0.1).index, 'Salary'] = np.nan\n",
    "employees.loc[employees.sample(frac=0.1).index, 'Age'] = np.nan\n",
    "\n",
    "# Fill missing values:\n",
    "# - Salary with mean\n",
    "employees['Salary'].fillna(employees['Salary'].mean(), inplace=True)\n",
    "# - Age with median\n",
    "employees['Age'].fillna(employees['Age'].median(), inplace=True)\n",
    "\n",
    "# Display the updated DataFrame (optional)\n",
    "print(employees)  \n"
   ]
  },
  {
   "cell_type": "code",
   "execution_count": 11,
   "metadata": {},
   "outputs": [],
   "source": [
    "### 10. Save the Updated Data to a New CSV File  \n",
    "#- After performing all operations, save the modified DataFrame to a new CSV file called `updated_employees.csv`. \n",
    "\n",
    "# Save the updated DataFrame to a new CSV file\n",
    "employees.to_csv('updated_employees.csv', index=False)"
   ]
  }
 ],
 "metadata": {
  "kernelspec": {
   "display_name": "Python 3",
   "language": "python",
   "name": "python3"
  },
  "language_info": {
   "codemirror_mode": {
    "name": "ipython",
    "version": 3
   },
   "file_extension": ".py",
   "mimetype": "text/x-python",
   "name": "python",
   "nbconvert_exporter": "python",
   "pygments_lexer": "ipython3",
   "version": "3.13.2"
  }
 },
 "nbformat": 4,
 "nbformat_minor": 2
}
