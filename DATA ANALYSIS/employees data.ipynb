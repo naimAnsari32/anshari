{
 "cells": [
  {
   "cell_type": "code",
   "execution_count": 2,
   "metadata": {},
   "outputs": [],
   "source": [
    "import csv\n",
    "\n",
    "# Data to be written to the CSV file\n",
    "data = [\n",
    "    [\"Employee_ID\", \"Name\", \"Age\", \"Department\", \"Salary\", \"Joining_Date\", \"City\"],\n",
    "    [101, \"John Doe\", 28, \"IT\", 50000, \"2018-06-15\", \"New York\"],\n",
    "    [102, \"Jane Smith\", 32, \"HR\", 60000, \"2016-09-23\", \"Los Angeles\"],\n",
    "    [103, \"Emily Davis\", 45, \"Finance\", 80000, \"2012-11-04\", \"Chicago\"],\n",
    "    [104, \"Michael Brown\", 29, \"IT\", 55000, \"2019-07-12\", \"New York\"],\n",
    "    [105, \"Chris Wilson\", 35, \"Marketing\", 62000, \"2015-03-19\", \"San Francisco\"],\n",
    "    [106, \"Sarah Johnson\", 40, \"HR\", 72000, \"2014-05-28\", \"Los Angeles\"],\n",
    "    [107, \"David Lee\", 50, \"Finance\", 95000, \"2010-12-17\", \"Chicago\"],\n",
    "    [108, \"Robert White\", 27, \"Marketing\", 49000, \"2020-08-01\", \"San Francisco\"]\n",
    "]\n",
    "\n",
    "# Create and write to the CSV file\n",
    "with open('employees.csv', 'w', newline='') as file:\n",
    "    writer = csv.writer(file)\n",
    "    writer.writerows(data)"
   ]
  }
 ],
 "metadata": {
  "kernelspec": {
   "display_name": "Python 3",
   "language": "python",
   "name": "python3"
  },
  "language_info": {
   "codemirror_mode": {
    "name": "ipython",
    "version": 3
   },
   "file_extension": ".py",
   "mimetype": "text/x-python",
   "name": "python",
   "nbconvert_exporter": "python",
   "pygments_lexer": "ipython3",
   "version": "3.13.2"
  }
 },
 "nbformat": 4,
 "nbformat_minor": 2
}
