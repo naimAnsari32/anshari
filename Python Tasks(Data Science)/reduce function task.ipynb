{
 "cells": [
  {
   "cell_type": "code",
   "execution_count": 1,
   "metadata": {},
   "outputs": [],
   "source": [
    "from functools import reduce"
   ]
  },
  {
   "cell_type": "code",
   "execution_count": 2,
   "metadata": {},
   "outputs": [
    {
     "name": "stdout",
     "output_type": "stream",
     "text": [
      "Sum of numbers: 150\n"
     ]
    }
   ],
   "source": [
    "#1. Write a program using `reduce()` to calculate the sum of all numbers in a list `[10, 20, 30, 40, 50]`. \n",
    "numbers = [10, 20, 30, 40, 50]\n",
    "sum_of_numbers = reduce(lambda x, y: x + y, numbers)\n",
    "print(f\"Sum of numbers: {sum_of_numbers}\")  # Output: Sum of numbers: 150"
   ]
  },
  {
   "cell_type": "code",
   "execution_count": 3,
   "metadata": {},
   "outputs": [
    {
     "name": "stdout",
     "output_type": "stream",
     "text": [
      "Maximum number: 89\n"
     ]
    }
   ],
   "source": [
    "#2. Use `reduce()` to find the maximum number in the list `[12, 45, 78, 34, 89, 23]`.\n",
    "numbers = [12, 45, 78, 34, 89, 23]\n",
    "maximum_number = reduce(lambda x, y: x if x > y else y, numbers)\n",
    "print(f\"Maximum number: {maximum_number}\")  # Output: Maximum number: 89"
   ]
  },
  {
   "cell_type": "code",
   "execution_count": 4,
   "metadata": {},
   "outputs": [
    {
     "name": "stdout",
     "output_type": "stream",
     "text": [
      "Product of numbers: 210\n"
     ]
    }
   ],
   "source": [
    "#3. Write a program that uses `reduce()` to multiply all elements in `[2, 3, 5, 7]`.\n",
    "numbers = [2, 3, 5, 7]\n",
    "product_of_numbers = reduce(lambda x, y: x * y, numbers)\n",
    "print(f\"Product of numbers: {product_of_numbers}\")  # Output: Product of numbers: 210"
   ]
  },
  {
   "cell_type": "code",
   "execution_count": 5,
   "metadata": {},
   "outputs": [
    {
     "name": "stdout",
     "output_type": "stream",
     "text": [
      "Concatenated string: Hello World!\n"
     ]
    }
   ],
   "source": [
    "#4. Use `reduce()` to concatenate all strings in `[\"Hello\", \" \", \"World\", \"!\"]`.\n",
    "strings = [\"Hello\", \" \", \"World\", \"!\"]\n",
    "concatenated_string = reduce(lambda x, y: x + y, strings)\n",
    "print(f\"Concatenated string: {concatenated_string}\")  # Output: Concatenated string: Hello World!"
   ]
  },
  {
   "cell_type": "code",
   "execution_count": 6,
   "metadata": {},
   "outputs": [
    {
     "name": "stdout",
     "output_type": "stream",
     "text": [
      "GCD: 3\n"
     ]
    }
   ],
   "source": [
    "#5. Given a list `[3, 6, 9, 12, 15]`, use `reduce()` to find the greatest common divisor (GCD). \n",
    "import math\n",
    "numbers = [3, 6, 9, 12, 15]\n",
    "gcd = reduce(math.gcd, numbers)\n",
    "print(f\"GCD: {gcd}\")  # Output: GCD: 3"
   ]
  },
  {
   "cell_type": "code",
   "execution_count": 7,
   "metadata": {},
   "outputs": [
    {
     "name": "stdout",
     "output_type": "stream",
     "text": [
      "Factorial of 5: 120\n"
     ]
    }
   ],
   "source": [
    "#6. Write a program using `reduce()` to compute the factorial of `5` using the list `[1, 2, 3, 4, 5]`.\n",
    "numbers = [1, 2, 3, 4, 5]\n",
    "factorial = reduce(lambda x, y: x * y, numbers)\n",
    "print(f\"Factorial of 5: {factorial}\")  # Output: Factorial of 5: 120"
   ]
  },
  {
   "cell_type": "code",
   "execution_count": 8,
   "metadata": {},
   "outputs": [
    {
     "name": "stdout",
     "output_type": "stream",
     "text": [
      "Product of even numbers: 3840\n"
     ]
    }
   ],
   "source": [
    "#7. Use `reduce()` to calculate the product of all even numbers in `[1, 2, 3, 4, 5, 6, 8, 10]`.\n",
    "numbers = [1, 2, 3, 4, 5, 6, 8, 10]\n",
    "even_product = reduce(lambda x, y: x * y, filter(lambda x: x % 2 == 0, numbers))\n",
    "print(f\"Product of even numbers: {even_product}\")  # Output: Product of even numbers: 1920"
   ]
  },
  {
   "cell_type": "code",
   "execution_count": 9,
   "metadata": {},
   "outputs": [
    {
     "name": "stdout",
     "output_type": "stream",
     "text": [
      "Sum of squares: 120\n"
     ]
    }
   ],
   "source": [
    "#8. Write a function using `reduce()` to compute the sum of squares of `[2, 4, 6, 8]`.\n",
    "def sum_of_squares(numbers):\n",
    "    return reduce(lambda x, y: x + y**2, numbers, 0)  # Initial value 0 for sum\n",
    "numbers = [2, 4, 6, 8]\n",
    "result = sum_of_squares(numbers)\n",
    "print(f\"Sum of squares: {result}\")  # Output: Sum of squares: 120"
   ]
  },
  {
   "cell_type": "code",
   "execution_count": 10,
   "metadata": {},
   "outputs": [
    {
     "name": "stdout",
     "output_type": "stream",
     "text": [
      "Longest word: avocado\n"
     ]
    }
   ],
   "source": [
    "#9. Use `reduce()` to find the longest word in `[\"apple\", \"banana\", \"cherry\", \"avocado\"]`.\n",
    "words = [\"apple\", \"banana\", \"cherry\", \"avocado\"]\n",
    "longest_word = reduce(lambda x, y: x if len(x) > len(y) else y, words)\n",
    "print(f\"Longest word: {longest_word}\")  # Output: Longest word: avocado"
   ]
  },
  {
   "cell_type": "code",
   "execution_count": 11,
   "metadata": {},
   "outputs": [
    {
     "name": "stdout",
     "output_type": "stream",
     "text": [
      "Cumulative division: 0.016\n"
     ]
    }
   ],
   "source": [
    "#10. Given a list `[100, 50, 25, 5]`, use `reduce()` to perform a **cumulative division** (i.e., `100 / 50 / 25 / 5`).  \n",
    "numbers = [100, 50, 25, 5]\n",
    "cumulative_division = reduce(lambda x, y: x / y, numbers)\n",
    "print(f\"Cumulative division: {cumulative_division}\")  # Output: Cumulative division: 0.04"
   ]
  }
 ],
 "metadata": {
  "kernelspec": {
   "display_name": "Python 3",
   "language": "python",
   "name": "python3"
  },
  "language_info": {
   "codemirror_mode": {
    "name": "ipython",
    "version": 3
   },
   "file_extension": ".py",
   "mimetype": "text/x-python",
   "name": "python",
   "nbconvert_exporter": "python",
   "pygments_lexer": "ipython3",
   "version": "3.13.2"
  }
 },
 "nbformat": 4,
 "nbformat_minor": 2
}
