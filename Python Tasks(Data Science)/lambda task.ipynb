{
 "cells": [
  {
   "cell_type": "code",
   "execution_count": 1,
   "metadata": {},
   "outputs": [
    {
     "name": "stdout",
     "output_type": "stream",
     "text": [
      "8\n"
     ]
    }
   ],
   "source": [
    "#1. Write a lambda function to add two numbers and print the result.\n",
    "add_and_print = lambda x, y: print(x + y) \n",
    "add_and_print(5, 3)"
   ]
  },
  {
   "cell_type": "code",
   "execution_count": 3,
   "metadata": {},
   "outputs": [
    {
     "name": "stdout",
     "output_type": "stream",
     "text": [
      "The square of 5 is 25\n"
     ]
    }
   ],
   "source": [
    "#2. Create a lambda function to find the square of a given number.\n",
    "square = lambda x: x**2\n",
    "number = 5\n",
    "result = square(number)\n",
    "print(f\"The square of {number} is {result}\")"
   ]
  },
  {
   "cell_type": "code",
   "execution_count": 6,
   "metadata": {},
   "outputs": [
    {
     "name": "stdout",
     "output_type": "stream",
     "text": [
      "10 is Even\n"
     ]
    }
   ],
   "source": [
    "#3. Write a lambda function to check if a number is even or odd.\n",
    "even_odd = lambda x: \"Even\" if x % 2 == 0 else \"Odd\"\n",
    "number = 10\n",
    "result = even_odd(number)\n",
    "print(f\"{number} is {result}\")"
   ]
  },
  {
   "cell_type": "code",
   "execution_count": 7,
   "metadata": {},
   "outputs": [
    {
     "name": "stdout",
     "output_type": "stream",
     "text": [
      "The larger number between 15 and 10 is: 15\n"
     ]
    }
   ],
   "source": [
    "#4. Define a lambda function that returns the larger of two numbers.\n",
    "larger_number = lambda x, y: x if x > y else y\n",
    "num1 = 15\n",
    "num2 = 10\n",
    "result = larger_number(num1, num2)\n",
    "print(f\"The larger number between {num1} and {num2} is: {result}\")"
   ]
  },
  {
   "cell_type": "code",
   "execution_count": 8,
   "metadata": {},
   "outputs": [
    {
     "name": "stdout",
     "output_type": "stream",
     "text": [
      "Hello World\n"
     ]
    }
   ],
   "source": [
    "#5. Use a lambda function to concatenate two strings with a space in between.\n",
    "concatenate_strings = lambda str1, str2: str1 + \" \" + str2\n",
    "string1 = \"Hello\"\n",
    "string2 = \"World\"\n",
    "result = concatenate_strings(string1, string2)\n",
    "print(result)"
   ]
  },
  {
   "cell_type": "code",
   "execution_count": 9,
   "metadata": {},
   "outputs": [
    {
     "name": "stdout",
     "output_type": "stream",
     "text": [
      "10 is Positive\n"
     ]
    }
   ],
   "source": [
    "#6. Create a lambda function that takes a number and returns `\"Positive\"` if it is greater than zero, otherwise `\"Negative\"`. \n",
    "check_sign = lambda num: \"Positive\" if num > 0 else \"Negative\"\n",
    "number1 = 10\n",
    "result1 = check_sign(number1)\n",
    "print(f\"{number1} is {result1}\")"
   ]
  },
  {
   "cell_type": "code",
   "execution_count": 10,
   "metadata": {},
   "outputs": [
    {
     "name": "stdout",
     "output_type": "stream",
     "text": [
      "[2, 4, 6, 8, 10]\n"
     ]
    }
   ],
   "source": [
    "#7. Use a lambda function inside `map()` to double all numbers in a list `[1, 2, 3, 4, 5]`.\n",
    "numbers = [1, 2, 3, 4, 5]\n",
    "doubled_numbers = list(map(lambda x: x * 2, numbers))\n",
    "print(doubled_numbers)"
   ]
  },
  {
   "cell_type": "code",
   "execution_count": 11,
   "metadata": {},
   "outputs": [
    {
     "name": "stdout",
     "output_type": "stream",
     "text": [
      "[10, 20, 30]\n"
     ]
    }
   ],
   "source": [
    "#8. Use a lambda function inside `filter()` to get only even numbers from a list `[10, 15, 20, 25, 30]`.\n",
    "numbers = [10, 15, 20, 25, 30]\n",
    "even_numbers = list(filter(lambda x: x % 2 == 0, numbers))\n",
    "print(even_numbers)"
   ]
  },
  {
   "cell_type": "code",
   "execution_count": 12,
   "metadata": {},
   "outputs": [
    {
     "name": "stdout",
     "output_type": "stream",
     "text": [
      "[(4, 1), (2, 3), (1, 5)]\n"
     ]
    }
   ],
   "source": [
    "#9. Write a lambda function inside `sorted()` to sort a list of tuples based on the second value: `[(1, 5), (2, 3), (4, 1)]`.\n",
    "tuples_list = [(1, 5), (2, 3), (4, 1)]\n",
    "sorted_tuples = sorted(tuples_list, key=lambda item: item[1])\n",
    "print(sorted_tuples)"
   ]
  },
  {
   "cell_type": "code",
   "execution_count": 13,
   "metadata": {},
   "outputs": [
    {
     "name": "stdout",
     "output_type": "stream",
     "text": [
      "The length of 'Hello, world!' is: 13\n"
     ]
    }
   ],
   "source": [
    "#10. Create a lambda function that returns the length of a given string.\n",
    "string_length = lambda s: len(s)\n",
    "text = \"Hello, world!\"\n",
    "length = string_length(text)\n",
    "print(f\"The length of '{text}' is: {length}\")"
   ]
  }
 ],
 "metadata": {
  "kernelspec": {
   "display_name": "Python 3",
   "language": "python",
   "name": "python3"
  },
  "language_info": {
   "codemirror_mode": {
    "name": "ipython",
    "version": 3
   },
   "file_extension": ".py",
   "mimetype": "text/x-python",
   "name": "python",
   "nbconvert_exporter": "python",
   "pygments_lexer": "ipython3",
   "version": "3.13.2"
  }
 },
 "nbformat": 4,
 "nbformat_minor": 2
}
