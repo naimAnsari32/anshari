{
 "cells": [
  {
   "cell_type": "code",
   "execution_count": 1,
   "metadata": {},
   "outputs": [
    {
     "name": "stdout",
     "output_type": "stream",
     "text": [
      "The number is positive\n"
     ]
    }
   ],
   "source": [
    "# Task : `if` statement:\n",
    "\n",
    "#1. **Basic Condition Check**\n",
    "#  - Write an `if` statement that checks if a given number `num` is positive. If it is, print `\"The number is positive\"`.\n",
    "#Ans: \n",
    "num=input(\"Enter a number\")\n",
    "num=int(num)\n",
    "if num>0:\n",
    "   print(\"The number is positive\")\n",
    "else:\n",
    "   print(\"The number is negative\")\n"
   ]
  },
  {
   "cell_type": "code",
   "execution_count": 2,
   "metadata": {},
   "outputs": [
    {
     "name": "stdout",
     "output_type": "stream",
     "text": [
      "The number is odd\n"
     ]
    }
   ],
   "source": [
    "#2. **Even or Odd Check**\n",
    "   #- Write a Python program that checks if a number `n` is even or odd. Use an `if` statement to print `\"Even\"` if the number is even and `\"Odd\"` if it is odd.\n",
    "#Ans: \n",
    "n=input(\"Enter a number\")\n",
    "n=int(n)\n",
    "if n%2==0:\n",
    "   print(\"The number is even\")\n",
    "else:\n",
    "   print(\"The number is odd\")\n"
   ]
  },
  {
   "cell_type": "code",
   "execution_count": 3,
   "metadata": {},
   "outputs": [
    {
     "name": "stdout",
     "output_type": "stream",
     "text": [
      "The student is pass\n"
     ]
    }
   ],
   "source": [
    "#3. **Pass or Fail**\n",
    "  # - Create a program that checks a student's score and prints `\"Pass\"` if the score is 40 or above. If the score is below 40, print `\"Fail\"`.\n",
    "#Ans: \n",
    "p=input(\"Enter a number out of 100=\")\n",
    "p=int(p)\n",
    "c=input(\"Enter a number out of 100=\")\n",
    "c=int(c)\n",
    "m=input(\"Enter a number out of 100=\")\n",
    "m=int(m)\n",
    "e=input(\"Enter a number out of 100=\")\n",
    "e=int(e)\n",
    "h=input(\"Enter a number out of 100=\")\n",
    "h=int(h)\n",
    "score=(((p+c+m+e+h)/500)*100)\n",
    "if score>=40:\n",
    "   print(\"The student is pass\")\n",
    "else:\n",
    "   print(\"The student is fail\")"
   ]
  },
  {
   "cell_type": "code",
   "execution_count": 4,
   "metadata": {},
   "outputs": [
    {
     "name": "stdout",
     "output_type": "stream",
     "text": [
      "It's a cool day\n"
     ]
    }
   ],
   "source": [
    "#4. **Temperature Check**\n",
    "   #- Write a program to check if the temperature `temp` is above 30 degrees. If it is, print `\"It's a hot day!\"`. Otherwise, print `\"It's a cool day\"`.\n",
    "#Ans: \n",
    "temp = float(input(\"Enter the temperature in Celsius: \"))\n",
    "if temp > 30:\n",
    "    print(\"It's a hot day!\")\n",
    "else:\n",
    "    print(\"It's a cool day\")\n"
   ]
  },
  {
   "cell_type": "code",
   "execution_count": 5,
   "metadata": {},
   "outputs": [
    {
     "name": "stdout",
     "output_type": "stream",
     "text": [
      "You are not an adult\n"
     ]
    }
   ],
   "source": [
    "#5. **Adult Verification**\n",
    "  # - Using an `if` statement, write a program that checks if a person is an adult. If `age` is 18 or older, print `\"You are an adult\"`. Otherwise, print `\"You are not an adult\"`.\n",
    "#Ans: \n",
    "age = int(input(\"Enter your age: \"))\n",
    "if age >= 18:\n",
    "    print(\"You are an adult\")\n",
    "else:\n",
    "    print(\"You are not an adult\")\n"
   ]
  },
  {
   "cell_type": "code",
   "execution_count": 6,
   "metadata": {},
   "outputs": [
    {
     "name": "stdout",
     "output_type": "stream",
     "text": [
      "This number is a multiple of 5\n"
     ]
    }
   ],
   "source": [
    "#6. **Multiple of 5**\n",
    "   #- Write a program that checks if a given number `x` is a multiple of 5. If it is, print `\"This number is a multiple of 5\"`.\n",
    "#Ans: \n",
    "x = int(input(\"Enter a number: \"))\n",
    "if x % 5 == 0:\n",
    "    print(\"This number is a multiple of 5\")\n"
   ]
  },
  {
   "cell_type": "code",
   "execution_count": 7,
   "metadata": {},
   "outputs": [
    {
     "name": "stdout",
     "output_type": "stream",
     "text": [
      "It is a vowel\n"
     ]
    }
   ],
   "source": [
    "#7. **Check Vowel**\n",
    "   #- Write a Python program that checks if a given character `ch` is a vowel (`a, e, i, o, u`). Print `\"It is a vowel\"` if true.\n",
    "#Ans: \n",
    "ch = input(\"Enter a character: \")\n",
    "if ch == 'a' or ch == 'e' or ch == 'i' or ch == 'o' or ch == 'u' or \\\n",
    "   ch == 'A' or ch == 'E' or ch == 'I' or ch == 'O' or ch == 'U':\n",
    "    print(\"It is a vowel\")\n",
    "else:\n",
    "      print(\"It is consonent\")"
   ]
  },
  {
   "cell_type": "code",
   "execution_count": 8,
   "metadata": {},
   "outputs": [
    {
     "name": "stdout",
     "output_type": "stream",
     "text": [
      "Access Denied\n"
     ]
    }
   ],
   "source": [
    "#8. **Password Verification**\n",
    "  # - Create a simple program to check if the entered password is `\"secure123\"`. If the password matches, print `\"Access Granted\"`. Otherwise, print `\"Access Denied\"`.\n",
    "#Ans: \n",
    "password = input(\"Enter password: \")\n",
    "if password == \"secure123\":\n",
    "    print(\"Access Granted\")\n",
    "else:\n",
    "    print(\"Access Denied\")\n"
   ]
  },
  {
   "cell_type": "code",
   "execution_count": 9,
   "metadata": {},
   "outputs": [
    {
     "name": "stdout",
     "output_type": "stream",
     "text": [
      "Positive\n"
     ]
    }
   ],
   "source": [
    "#9. **Positive, Negative, or Zero**\n",
    " #  - Write a program that takes a number `num` and prints `\"Positive\"` if it is greater than zero, `\"Negative\"` if it is less than zero, and `\"Zero\"` if it is exactly zero.\n",
    "#Ans: \n",
    "num = int(input(\"Enter a number: \"))\n",
    "if num > 0:\n",
    "    print(\"Positive\")\n",
    "elif num < 0:\n",
    "    print(\"Negative\")\n",
    "else:\n",
    "    print(\"Zero\")"
   ]
  },
  {
   "cell_type": "code",
   "execution_count": 10,
   "metadata": {},
   "outputs": [
    {
     "name": "stdout",
     "output_type": "stream",
     "text": [
      "Take an umbrella\n"
     ]
    }
   ],
   "source": [
    "#10. **Weather Suggestion**\n",
    "    #- Write a Python program that checks if the `weather` variable is `\"rainy\"`. If it is, print `\"Take an umbrella\"`. Otherwise, print `\"No umbrella needed\"`.\n",
    "#ANS: \n",
    "weather = input(\"Enter the weather condition (e.g., rainy, sunny): \")\n",
    "if weather == \"rainy\":\n",
    "    print(\"Take an umbrella\")\n",
    "else:\n",
    "    print(\"No umbrella needed\")"
   ]
  }
 ],
 "metadata": {
  "kernelspec": {
   "display_name": "Python 3",
   "language": "python",
   "name": "python3"
  },
  "language_info": {
   "codemirror_mode": {
    "name": "ipython",
    "version": 3
   },
   "file_extension": ".py",
   "mimetype": "text/x-python",
   "name": "python",
   "nbconvert_exporter": "python",
   "pygments_lexer": "ipython3",
   "version": "3.13.2"
  }
 },
 "nbformat": 4,
 "nbformat_minor": 2
}
