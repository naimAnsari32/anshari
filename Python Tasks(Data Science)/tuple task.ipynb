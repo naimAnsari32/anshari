{
 "cells": [
  {
   "cell_type": "code",
   "execution_count": 4,
   "metadata": {},
   "outputs": [
    {
     "name": "stdout",
     "output_type": "stream",
     "text": [
      "('apple', 'banana', 'cherry')\n"
     ]
    }
   ],
   "source": [
    "### **Task: Tuple in Python**  \n",
    "\n",
    "#1. Create a tuple `fruits` with values `(\"apple\", \"banana\", \"cherry\")` and print it. \n",
    "fruits=(\"apple\", \"banana\", \"cherry\")\n",
    "print(fruits)"
   ]
  },
  {
   "cell_type": "code",
   "execution_count": 29,
   "metadata": {},
   "outputs": [
    {
     "name": "stdout",
     "output_type": "stream",
     "text": [
      "apple\n",
      "cherry\n"
     ]
    }
   ],
   "source": [
    "#2. Access and print the first and last elements of the `fruits` tuple using indexing. \n",
    "fruits=(\"apple\", \"banana\", \"cherry\")\n",
    "print(fruits[0])\n",
    "print(fruits[-1])"
   ]
  },
  {
   "cell_type": "code",
   "execution_count": null,
   "metadata": {},
   "outputs": [
    {
     "name": "stdout",
     "output_type": "stream",
     "text": [
      "('apple', 'banana')\n"
     ]
    }
   ],
   "source": [
    "#3. Use slicing to print the first two elements of the `fruits` tuple.\n",
    "print(fruits[0:2])"
   ]
  },
  {
   "cell_type": "code",
   "execution_count": 31,
   "metadata": {},
   "outputs": [
    {
     "name": "stdout",
     "output_type": "stream",
     "text": [
      "4\n"
     ]
    }
   ],
   "source": [
    "#4. Create a tuple `numbers` with values `(10, 20, 30, 40)`, and find its length using `len()`.\n",
    "numbers=(10,20,30,40)\n",
    "print(len(numbers))"
   ]
  },
  {
   "cell_type": "code",
   "execution_count": 33,
   "metadata": {},
   "outputs": [
    {
     "name": "stdout",
     "output_type": "stream",
     "text": [
      "2\n"
     ]
    }
   ],
   "source": [
    "#5. Check how many times `\"apple\"` appears in the tuple `(\"apple\", \"banana\", \"apple\", \"cherry\")` using `count()`.\n",
    "fruits=(\"apple\", \"banana\", \"apple\", \"cherry\")\n",
    "print(fruits.count(\"apple\"))"
   ]
  },
  {
   "cell_type": "code",
   "execution_count": 35,
   "metadata": {},
   "outputs": [
    {
     "name": "stdout",
     "output_type": "stream",
     "text": [
      "0\n"
     ]
    }
   ],
   "source": [
    "#6. Find the index of `\"banana\"` in the tuple `(\"apple\", \"banana\", \"cherry\")` using `index()`.\n",
    "fruits=(\"apple\", \"banana\",\"cherry\")\n",
    "print(fruits.index(\"apple\"))"
   ]
  },
  {
   "cell_type": "code",
   "execution_count": 38,
   "metadata": {},
   "outputs": [
    {
     "name": "stdout",
     "output_type": "stream",
     "text": [
      "(1, 2, 3, 4, 5, 6)\n"
     ]
    }
   ],
   "source": [
    "#7. Concatenate two tuples `(1, 2, 3)` and `(4, 5, 6)` and print the resulting tuple. \n",
    "x1=(1, 2, 3)\n",
    "y1=(4, 5, 6)\n",
    "print(x1+y1)"
   ]
  },
  {
   "cell_type": "code",
   "execution_count": 39,
   "metadata": {},
   "outputs": [
    {
     "name": "stdout",
     "output_type": "stream",
     "text": [
      "(1, 2, 1, 2, 1, 2)\n"
     ]
    }
   ],
   "source": [
    "#8. Repeat the tuple `(1, 2)` three times and print the result.\n",
    "x1=(1, 2)\n",
    "print(x1*3)"
   ]
  },
  {
   "cell_type": "code",
   "execution_count": 40,
   "metadata": {},
   "outputs": [
    {
     "name": "stdout",
     "output_type": "stream",
     "text": [
      "('red', 'green', 'blue', 'yellow')\n"
     ]
    }
   ],
   "source": [
    "#9. Convert the tuple `(\"red\", \"green\", \"blue\")` into a list, add `\"yellow\"`, and convert it back into a tuple.\n",
    "colors = (\"red\", \"green\", \"blue\")\n",
    "colors_list = list(colors) \n",
    "colors_list.append(\"yellow\")\n",
    "colors = tuple(colors_list) \n",
    "print(colors)"
   ]
  },
  {
   "cell_type": "code",
   "execution_count": 41,
   "metadata": {},
   "outputs": [
    {
     "name": "stdout",
     "output_type": "stream",
     "text": [
      "Python\n",
      "Java\n",
      "C++\n"
     ]
    }
   ],
   "source": [
    "#10. Write a loop to iterate through the tuple `(\"Python\", \"Java\", \"C++\")` and print each item.  \n",
    "language=(\"Python\", \"Java\", \"C++\")\n",
    "for i in language:\n",
    "    print(i)"
   ]
  }
 ],
 "metadata": {
  "kernelspec": {
   "display_name": "Python 3",
   "language": "python",
   "name": "python3"
  },
  "language_info": {
   "codemirror_mode": {
    "name": "ipython",
    "version": 3
   },
   "file_extension": ".py",
   "mimetype": "text/x-python",
   "name": "python",
   "nbconvert_exporter": "python",
   "pygments_lexer": "ipython3",
   "version": "3.13.2"
  }
 },
 "nbformat": 4,
 "nbformat_minor": 2
}
