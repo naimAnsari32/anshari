{
 "cells": [
  {
   "cell_type": "code",
   "execution_count": 13,
   "metadata": {},
   "outputs": [
    {
     "name": "stdout",
     "output_type": "stream",
     "text": [
      "Hello, Welcome to Python!\n"
     ]
    }
   ],
   "source": [
    "### **Task: Functions in Python**  \n",
    "\n",
    "#1. Write a function `greet()` that prints `\"Hello, Welcome to Python!\"` when called. \n",
    "def greet():\n",
    "    print(\"Hello, Welcome to Python!\")\n",
    "greet()"
   ]
  },
  {
   "cell_type": "code",
   "execution_count": 22,
   "metadata": {},
   "outputs": [
    {
     "name": "stdout",
     "output_type": "stream",
     "text": [
      "8\n"
     ]
    }
   ],
   "source": [
    "#2. Create a function `add(a, b)` that takes two numbers as parameters and returns their sum.\n",
    "def add(a,b):\n",
    "    return a + b\n",
    "res= add(2,6)\n",
    "print(res)\n",
    "    "
   ]
  },
  {
   "cell_type": "code",
   "execution_count": 34,
   "metadata": {},
   "outputs": [
    {
     "name": "stdout",
     "output_type": "stream",
     "text": [
      "27\n"
     ]
    }
   ],
   "source": [
    "#3. Define a function `square(n)` that returns the square of a given number.\n",
    "def square(a):\n",
    "    return a**a\n",
    "res=square(3)\n",
    "print(res)"
   ]
  },
  {
   "cell_type": "code",
   "execution_count": 10,
   "metadata": {},
   "outputs": [
    {
     "name": "stdout",
     "output_type": "stream",
     "text": [
      "False\n"
     ]
    }
   ],
   "source": [
    "#4.Write a function `is_even(n)` that returns `True` if a number is even, otherwise `False`.\n",
    "def is_even(a):\n",
    "    a=int(a)\n",
    "    if a % 2==0:\n",
    "        print(\"True\")\n",
    "    else:\n",
    "        print(\"False\") \n",
    "user_input = input(\"Enter a number: \")  \n",
    "is_even(user_input)\n"
   ]
  },
  {
   "cell_type": "code",
   "execution_count": 35,
   "metadata": {},
   "outputs": [
    {
     "name": "stdout",
     "output_type": "stream",
     "text": [
      "Hellow Guest !\n",
      "Hellow Alice !\n"
     ]
    }
   ],
   "source": [
    "#5. Create a function `greet_user(name=\"Guest\")` that prints `\"Hello, [name]!\"`, using `\"Guest\"` as the default value.\n",
    "def greet_user(name=\"Guest\"):\n",
    "    print(\"Hellow\",name,\"!\")\n",
    "greet_user()\n",
    "greet_user(\"Alice\")"
   ]
  },
  {
   "cell_type": "code",
   "execution_count": 13,
   "metadata": {},
   "outputs": [
    {
     "data": {
      "text/plain": [
       "10"
      ]
     },
     "execution_count": 13,
     "metadata": {},
     "output_type": "execute_result"
    }
   ],
   "source": [
    "#6. Implement a function `multiply(a, b=2)` that multiplies two numbers but has a default value of `2` for `b`.\n",
    "def multiply(a,b=2):\n",
    "    a=int(a)\n",
    "    return a*b\n",
    "user_input=input(\"Enter value of a: \")\n",
    "multiply(user_input)"
   ]
  },
  {
   "cell_type": "code",
   "execution_count": 36,
   "metadata": {},
   "outputs": [
    {
     "data": {
      "text/plain": [
       "'Factorial is not defined for negative numbers.'"
      ]
     },
     "execution_count": 36,
     "metadata": {},
     "output_type": "execute_result"
    }
   ],
   "source": [
    "#7. Write a function `factorial(n)` that calculates the factorial of a given number using a loop.\n",
    "def factorial(n):\n",
    "    n=int(n)\n",
    "    if n < 0:\n",
    "       return \"Factorial is not defined for negative numbers.\"\n",
    "    elif n == 0:\n",
    "       return 1\n",
    "    else:\n",
    "       fact = 1\n",
    "       for i in range(1, n + 1):\n",
    "           fact *= i\n",
    "    return fact\n",
    "user_input=input(\"Enter value of n:\")\n",
    "factorial(user_input)"
   ]
  },
  {
   "cell_type": "code",
   "execution_count": 38,
   "metadata": {},
   "outputs": [
    {
     "name": "stdout",
     "output_type": "stream",
     "text": [
      "The number of vowels in ' good morning ' is:  4\n"
     ]
    }
   ],
   "source": [
    "#8. Create a function `count_vowels(text)` that returns the number of vowels in a given string.\n",
    "def count_vowels(text):\n",
    "  vowels = \"aeiouAEIOU\"\n",
    "  vowel_count = 0\n",
    "  for char in text:\n",
    "    if char in vowels:\n",
    "      vowel_count += 1\n",
    "  return vowel_count\n",
    "text = input()\n",
    "text=str(text)\n",
    "vowel_count = count_vowels(text)\n",
    "print(\"The number of vowels in '\",text,\"' is: \", str(vowel_count))"
   ]
  },
  {
   "cell_type": "code",
   "execution_count": 39,
   "metadata": {},
   "outputs": [
    {
     "name": "stdout",
     "output_type": "stream",
     "text": [
      "Reversed string: MIAN\n"
     ]
    }
   ],
   "source": [
    "#9. Define a function `reverse_string(text)` that returns the reversed version of a given string.\n",
    "def reverse_string(text):\n",
    "  return text[::-1]\n",
    "string = input()\n",
    "string=str(string)\n",
    "reversed_string = reverse_string(string)\n",
    "print(\"Reversed string:\", reversed_string)"
   ]
  },
  {
   "cell_type": "code",
   "execution_count": 42,
   "metadata": {},
   "outputs": [
    {
     "name": "stdout",
     "output_type": "stream",
     "text": [
      "' racecar ' is a palindrome.\n"
     ]
    }
   ],
   "source": [
    "#10. Write a function `is_palindrome(text)` that checks if a string is a palindrome (same forward and backward).  \n",
    "def is_palindrome(text):\n",
    "  cleaned_text = text.replace(\" \", \"\").lower()  \n",
    "  reversed_text = cleaned_text[::-1] \n",
    "  return cleaned_text == reversed_text\n",
    "user_input = input(\"Enter a string: \")\n",
    "if is_palindrome(user_input):\n",
    "  print(\"'\",user_input,\"' is a palindrome.\")\n",
    "else:\n",
    "  print(\"'\",user_input,\"' is not a palindrome.\")"
   ]
  }
 ],
 "metadata": {
  "kernelspec": {
   "display_name": "Python 3",
   "language": "python",
   "name": "python3"
  },
  "language_info": {
   "codemirror_mode": {
    "name": "ipython",
    "version": 3
   },
   "file_extension": ".py",
   "mimetype": "text/x-python",
   "name": "python",
   "nbconvert_exporter": "python",
   "pygments_lexer": "ipython3",
   "version": "3.13.2"
  }
 },
 "nbformat": 4,
 "nbformat_minor": 2
}
