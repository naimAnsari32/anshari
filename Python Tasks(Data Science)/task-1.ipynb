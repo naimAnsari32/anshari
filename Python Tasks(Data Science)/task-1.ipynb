{
 "cells": [
  {
   "cell_type": "code",
   "execution_count": 18,
   "metadata": {},
   "outputs": [
    {
     "name": "stdout",
     "output_type": "stream",
     "text": [
      "Naim Ansari\n"
     ]
    }
   ],
   "source": [
    "#Task : Variable(L1)\n",
    "\n",
    "#1. **Create a variable to store your name and print it.**\n",
    "#Ans: \n",
    "x=\"Naim Ansari\"\n",
    "print(x)\n"
   ]
  },
  {
   "cell_type": "code",
   "execution_count": 20,
   "metadata": {},
   "outputs": [
    {
     "name": "stdout",
     "output_type": "stream",
     "text": [
      "22\n"
     ]
    }
   ],
   "source": [
    "#2. **Assign your age to a variable and print it.**\n",
    "#Ans: \n",
    "a=22\n",
    "print(a)"
   ]
  },
  {
   "cell_type": "code",
   "execution_count": 21,
   "metadata": {},
   "outputs": [
    {
     "name": "stdout",
     "output_type": "stream",
     "text": [
      "250\n"
     ]
    }
   ],
   "source": [
    "#3. **Create a variable to store the price of an item and another variable to store the quantity. Calculate and print the total cost.**\n",
    "#Ans: \n",
    "price=input(\"enter the price\")\n",
    "quantity=input(\"enter the quantity\")\n",
    "price, quantity = int(price), int(quantity)\n",
    "print(price*quantity)"
   ]
  },
  {
   "cell_type": "code",
   "execution_count": 22,
   "metadata": {},
   "outputs": [
    {
     "name": "stdout",
     "output_type": "stream",
     "text": [
      "sum= 75\n"
     ]
    }
   ],
   "source": [
    "#4. **Store the result of an addition operation (e.g., 5 + 7) in a variable and print the result.**\n",
    "#Ans:\n",
    "x=input(\"x=\")\n",
    "y=input(\"y=\")\n",
    "x=int(x)\n",
    "y=int(y)\n",
    "z=x+y\n",
    "print(\"sum=\",z)"
   ]
  },
  {
   "cell_type": "code",
   "execution_count": 23,
   "metadata": {},
   "outputs": [
    {
     "name": "stdout",
     "output_type": "stream",
     "text": [
      "x= 85\n",
      "y= 50\n"
     ]
    }
   ],
   "source": [
    "#5. **Create two variables, `x` and `y`, and assign them integer values. Swap their values and print both variables.**\n",
    "#Ans: \n",
    "x=input(\"x=\")\n",
    "y=input(\"y=\")\n",
    "x=int(x)\n",
    "y=int(y)\n",
    "x,y=y,x\n",
    "print(\"x=\",x)\n",
    "print(\"y=\",y)"
   ]
  },
  {
   "cell_type": "code",
   "execution_count": 24,
   "metadata": {},
   "outputs": [
    {
     "name": "stdout",
     "output_type": "stream",
     "text": [
      "My fabourite color is black\n"
     ]
    }
   ],
   "source": [
    "#6. **Create a variable to store your favorite color and print a message including the color (e.g., \"My favorite color is blue\").**\n",
    "#Ans: \n",
    "x=\"black\"\n",
    "y=\"My fabourite color is\"\n",
    "print(y,x)\n"
   ]
  },
  {
   "cell_type": "code",
   "execution_count": 25,
   "metadata": {},
   "outputs": [
    {
     "name": "stdout",
     "output_type": "stream",
     "text": [
      "False:You are a student\n"
     ]
    }
   ],
   "source": [
    "#7. **Assign a boolean value to a variable indicating whether you are a student (`True` or `False`). Print the value of the variable.**\n",
    "#Ans: \n",
    "zero = \"False\"\n",
    "one = \"True\"\n",
    "x = input(\"Enter the value 0 or 1=\")\n",
    "x = int(x)\n",
    "if x == 0:\n",
    "    print(\"False:You are a student\")\n",
    "else:\n",
    "    print(\"True:You are not a student\")"
   ]
  },
  {
   "cell_type": "code",
   "execution_count": 26,
   "metadata": {},
   "outputs": [
    {
     "name": "stdout",
     "output_type": "stream",
     "text": [
      "3.14\n"
     ]
    }
   ],
   "source": [
    "#8. **Store a decimal number in a variable and print it rounded to two decimal places.**\n",
    "#Ans: \n",
    "decimal_number=3.1413\n",
    "round_number=round(decimal_number,2)\n",
    "print(round_number)\n"
   ]
  },
  {
   "cell_type": "code",
   "execution_count": 27,
   "metadata": {},
   "outputs": [
    {
     "name": "stdout",
     "output_type": "stream",
     "text": [
      "Height: 5.5 meter , Weight: 58.25 kg\n"
     ]
    }
   ],
   "source": [
    "#9. **Create a variable to store your height in meters and another variable to store your weight in kilograms. Print a message that includes both values (e.g., \"Height: 1.75 meters, Weight: 70 kg\").**\n",
    "#Ans: \n",
    "x=input(\"Enter your height=\")\n",
    "x=float(x)\n",
    "y=input(\"Enter your weight=\")\n",
    "y=float(y)\n",
    "print(\"Height:\",x,\"meter\",\",\",\"Weight:\",y,\"kg\")"
   ]
  },
  {
   "cell_type": "code",
   "execution_count": 28,
   "metadata": {},
   "outputs": [
    {
     "name": "stdout",
     "output_type": "stream",
     "text": [
      "congratulation You are a winner!\n"
     ]
    }
   ],
   "source": [
    "#10. **Create a variable to store a greeting message, and then concatenate it with another message to form a full sentence. Print the full sentence.**\n",
    "#Ans: \n",
    "x=\"congratulation\"\n",
    "y=\"You are a winner!\"\n",
    "print(x,y)\n"
   ]
  }
 ],
 "metadata": {
  "kernelspec": {
   "display_name": "Python 3",
   "language": "python",
   "name": "python3"
  },
  "language_info": {
   "codemirror_mode": {
    "name": "ipython",
    "version": 3
   },
   "file_extension": ".py",
   "mimetype": "text/x-python",
   "name": "python",
   "nbconvert_exporter": "python",
   "pygments_lexer": "ipython3",
   "version": "3.13.2"
  }
 },
 "nbformat": 4,
 "nbformat_minor": 2
}
