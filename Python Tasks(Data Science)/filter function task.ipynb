{
 "cells": [
  {
   "cell_type": "code",
   "execution_count": 1,
   "metadata": {},
   "outputs": [
    {
     "name": "stdout",
     "output_type": "stream",
     "text": [
      "Even numbers: [2, 4, 6, 8, 10]\n"
     ]
    }
   ],
   "source": [
    "#1. Write a program using `filter()` to extract even numbers from a list `[1, 2, 3, 4, 5, 6, 7, 8, 9, 10]`.\n",
    "numbers = [1, 2, 3, 4, 5, 6, 7, 8, 9, 10]\n",
    "even_numbers = list(filter(lambda x: x % 2 == 0, numbers))\n",
    "print(f\"Even numbers: {even_numbers}\")  "
   ]
  },
  {
   "cell_type": "code",
   "execution_count": 2,
   "metadata": {},
   "outputs": [
    {
     "name": "stdout",
     "output_type": "stream",
     "text": [
      "Numbers greater than 5: [6, 8, 10]\n"
     ]
    }
   ],
   "source": [
    "#2. Use `filter()` to find all numbers greater than `5` in a list `[3, 6, 2, 8, 5, 10]`.\n",
    "numbers = [3, 6, 2, 8, 5, 10]\n",
    "greater_than_5 = list(filter(lambda x: x > 5, numbers))\n",
    "print(f\"Numbers greater than 5: {greater_than_5}\")  "
   ]
  },
  {
   "cell_type": "code",
   "execution_count": 3,
   "metadata": {},
   "outputs": [
    {
     "name": "stdout",
     "output_type": "stream",
     "text": [
      "Words starting with 'a': ['apple', 'avocado']\n"
     ]
    }
   ],
   "source": [
    "#3. Given a list of words `[\"apple\", \"banana\", \"cherry\", \"avocado\", \"grape\"]`, use `filter()` to extract words that start with \"a\".\n",
    "words = [\"apple\", \"banana\", \"cherry\", \"avocado\", \"grape\"]\n",
    "words_starting_with_a = list(filter(lambda word: word.startswith(\"a\"), words))\n",
    "print(f\"Words starting with 'a': {words_starting_with_a}\")  "
   ]
  },
  {
   "cell_type": "code",
   "execution_count": 4,
   "metadata": {},
   "outputs": [
    {
     "name": "stdout",
     "output_type": "stream",
     "text": [
      "Positive numbers: [3, 7]\n"
     ]
    }
   ],
   "source": [
    "#4. Write a program using `filter()` to select only positive numbers from `[-5, -2, 0, 3, 7, -1]`.\n",
    "numbers = [-5, -2, 0, 3, 7, -1]\n",
    "positive_numbers = list(filter(lambda x: x > 0, numbers))\n",
    "print(f\"Positive numbers: {positive_numbers}\")  "
   ]
  },
  {
   "cell_type": "code",
   "execution_count": 5,
   "metadata": {},
   "outputs": [
    {
     "name": "stdout",
     "output_type": "stream",
     "text": [
      "Odd numbers: [15, 25, 35]\n"
     ]
    }
   ],
   "source": [
    "#5. Use `filter()` to extract only odd numbers from a list `[10, 15, 20, 25, 30, 35]`.\n",
    "numbers = [10, 15, 20, 25, 30, 35]\n",
    "odd_numbers = list(filter(lambda x: x % 2 != 0, numbers))\n",
    "print(f\"Odd numbers: {odd_numbers}\")  "
   ]
  },
  {
   "cell_type": "code",
   "execution_count": 6,
   "metadata": {},
   "outputs": [
    {
     "name": "stdout",
     "output_type": "stream",
     "text": [
      "Non-empty strings: ['Python', 'Java', ' ', 'C++']\n",
      "Non-empty strings: ['Python', 'Java', ' ', 'C++']\n"
     ]
    }
   ],
   "source": [
    "#6. Given a list of strings `[\"Python\", \"\", \"Java\", \" \", \"C++\", \"\"]`, use `filter()` to remove empty strings.\n",
    "strings = [\"Python\", \"\", \"Java\", \" \", \"C++\", \"\"]\n",
    "non_empty_strings = list(filter(None, strings))  # Using None to remove empty strings\n",
    "print(f\"Non-empty strings: {non_empty_strings}\")  \n",
    "\n",
    "# Alternative: using a lambda function to check for length > 0\n",
    "strings = [\"Python\", \"\", \"Java\", \" \", \"C++\", \"\"]\n",
    "non_empty_strings = list(filter(lambda s: len(s) > 0, strings))\n",
    "print(f\"Non-empty strings: {non_empty_strings}\") "
   ]
  },
  {
   "cell_type": "code",
   "execution_count": 7,
   "metadata": {},
   "outputs": [
    {
     "name": "stdout",
     "output_type": "stream",
     "text": [
      "Numbers divisible by 3: [3, 6, 9, 12, 15]\n"
     ]
    }
   ],
   "source": [
    "#7. Write a function using `filter()` to extract numbers that are divisible by 3 from `[1, 2, 3, 4, 5, 6, 7, 9, 12, 15]`.\n",
    "def divisible_by_3(numbers):\n",
    "    return list(filter(lambda x: x % 3 == 0, numbers))\n",
    "numbers = [1, 2, 3, 4, 5, 6, 7, 9, 12, 15]\n",
    "divisible_by_3_numbers = divisible_by_3(numbers)\n",
    "print(f\"Numbers divisible by 3: {divisible_by_3_numbers}\")  "
   ]
  },
  {
   "cell_type": "code",
   "execution_count": 8,
   "metadata": {},
   "outputs": [
    {
     "name": "stdout",
     "output_type": "stream",
     "text": [
      "Words with more than 5 letters: ['longer', 'elephant']\n"
     ]
    }
   ],
   "source": [
    "#8. Use `filter()` with a lambda function to find words with more than 5 letters from `[\"short\", \"longer\", \"big\", \"small\", \"elephant\"]`. \n",
    "words = [\"short\", \"longer\", \"big\", \"small\", \"elephant\"]\n",
    "long_words = list(filter(lambda word: len(word) > 5, words))\n",
    "print(f\"Words with more than 5 letters: {long_words}\")  "
   ]
  },
  {
   "cell_type": "code",
   "execution_count": 9,
   "metadata": {},
   "outputs": [
    {
     "name": "stdout",
     "output_type": "stream",
     "text": [
      "Non-negative numbers: [2, 4, 8]\n"
     ]
    }
   ],
   "source": [
    "#9. Write a program that uses `filter()` to remove negative numbers from a list `[-3, -1, 2, 4, -6, 8]`.\n",
    "numbers = [-3, -1, 2, 4, -6, 8]\n",
    "non_negative_numbers = list(filter(lambda x: x >= 0, numbers))\n",
    "print(f\"Non-negative numbers: {non_negative_numbers}\")  "
   ]
  },
  {
   "cell_type": "code",
   "execution_count": 10,
   "metadata": {},
   "outputs": [
    {
     "name": "stdout",
     "output_type": "stream",
     "text": [
      "Names starting with 'A': ['Alice', 'Anna']\n"
     ]
    }
   ],
   "source": [
    "#10. Given a list of names `[\"Alice\", \"Bob\", \"Anna\", \"Charlie\"]`, use `filter()` to extract names that start with \"A\". \n",
    "names = [\"Alice\", \"Bob\", \"Anna\", \"Charlie\"]\n",
    "names_starting_with_a = list(filter(lambda name: name.startswith(\"A\"), names))\n",
    "print(f\"Names starting with 'A': {names_starting_with_a}\")  "
   ]
  }
 ],
 "metadata": {
  "kernelspec": {
   "display_name": "Python 3",
   "language": "python",
   "name": "python3"
  },
  "language_info": {
   "codemirror_mode": {
    "name": "ipython",
    "version": 3
   },
   "file_extension": ".py",
   "mimetype": "text/x-python",
   "name": "python",
   "nbconvert_exporter": "python",
   "pygments_lexer": "ipython3",
   "version": "3.13.2"
  }
 },
 "nbformat": 4,
 "nbformat_minor": 2
}
