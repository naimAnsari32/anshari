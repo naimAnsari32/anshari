{
 "cells": [
  {
   "cell_type": "code",
   "execution_count": null,
   "metadata": {},
   "outputs": [
    {
     "name": "stdout",
     "output_type": "stream",
     "text": [
      "{'name': 'Khan', 'age': 22, 'grade': 'A'}\n"
     ]
    }
   ],
   "source": [
    "#1. Create a dictionary `student` with keys `\"name\"`, `\"age\"`, and `\"grade\"` and print it.  \n",
    "student = {\"name\": \"Khan\", \"age\": 22,\"grade\": \"A\"}\n",
    "print(student)"
   ]
  },
  {
   "cell_type": "code",
   "execution_count": 7,
   "metadata": {},
   "outputs": [
    {
     "name": "stdout",
     "output_type": "stream",
     "text": [
      "Khan\n"
     ]
    }
   ],
   "source": [
    "#2. Access and print the value of the `\"name\"` key from the `student` dictionary.\n",
    "print(student[\"name\"])"
   ]
  },
  {
   "cell_type": "code",
   "execution_count": 8,
   "metadata": {},
   "outputs": [
    {
     "data": {
      "text/plain": [
       "22"
      ]
     },
     "execution_count": 8,
     "metadata": {},
     "output_type": "execute_result"
    }
   ],
   "source": [
    "#3. Use the `get()` method to access the `\"age\"` key safely and print its value. \n",
    "student.get(\"age\")"
   ]
  },
  {
   "cell_type": "code",
   "execution_count": 10,
   "metadata": {},
   "outputs": [
    {
     "name": "stdout",
     "output_type": "stream",
     "text": [
      "{'name': 'Khan', 'age': 22, 'grade': 'A', 'city': 'Banglore'}\n"
     ]
    }
   ],
   "source": [
    "#4. Add a new key-value pair `\"city\": \"Bangalore\"` to the `student` dictionary and print the updated dictionary.  \n",
    "student[\"city\"]=\"Banglore\"\n",
    "print(student)"
   ]
  },
  {
   "cell_type": "code",
   "execution_count": 12,
   "metadata": {},
   "outputs": [
    {
     "name": "stdout",
     "output_type": "stream",
     "text": [
      "{'name': 'Khan', 'age': 22, 'grade': 'A+', 'city': 'Banglore', 'Grade': 'A+'}\n"
     ]
    }
   ],
   "source": [
    "#5. Modify the `\"grade\"` value in the `student` dictionary to `\"A+\"` and print the dictionary.\n",
    "student[\"grade\"]=\"A+\"\n",
    "print(student)"
   ]
  },
  {
   "cell_type": "code",
   "execution_count": 13,
   "metadata": {},
   "outputs": [
    {
     "name": "stdout",
     "output_type": "stream",
     "text": [
      "{'name': 'Khan', 'grade': 'A+', 'city': 'Banglore', 'Grade': 'A+'}\n"
     ]
    }
   ],
   "source": [
    "#6. Remove the `\"age\"` key from the `student` dictionary using `pop()` and print the updated dictionary.\n",
    "student.pop(\"age\")\n",
    "print(student)"
   ]
  },
  {
   "cell_type": "code",
   "execution_count": 19,
   "metadata": {},
   "outputs": [
    {
     "name": "stdout",
     "output_type": "stream",
     "text": [
      "name : Khan\n",
      "grade : A+\n",
      "city : Banglore\n",
      "Grade : A+\n"
     ]
    }
   ],
   "source": [
    "#7. Write a loop to print all keys and values from the `student` dictionary. \n",
    "for key, value in student.items():\n",
    "    print(key, \":\", value)"
   ]
  },
  {
   "cell_type": "code",
   "execution_count": 20,
   "metadata": {},
   "outputs": [
    {
     "name": "stdout",
     "output_type": "stream",
     "text": [
      "Email not found in student data.\n"
     ]
    }
   ],
   "source": [
    "#8. Check if the key `\"email\"` exists in the dictionary before accessing it.  \n",
    "if \"email\" in student:\n",
    "    email = student[\"email\"]\n",
    "    print(\"Email:\", email)\n",
    "else:\n",
    "    print(\"Email not found in student data.\")"
   ]
  },
  {
   "cell_type": "code",
   "execution_count": 21,
   "metadata": {},
   "outputs": [
    {
     "name": "stdout",
     "output_type": "stream",
     "text": [
      "{}\n"
     ]
    }
   ],
   "source": [
    "#9. Use `clear()` to remove all elements from the dictionary and print it.\n",
    "student.clear()\n",
    "print(student)"
   ]
  },
  {
   "cell_type": "code",
   "execution_count": 28,
   "metadata": {},
   "outputs": [
    {
     "name": "stdout",
     "output_type": "stream",
     "text": [
      "Student Name: Khan\n",
      "Age: 25\n",
      "Major: Computer Science\n",
      "Email: khan@example.com\n"
     ]
    }
   ],
   "source": [
    "#10. Create a nested dictionary containing information about multiple students and print details of one student using key access.  \n",
    "students = {\n",
    "    \"Khan\": {\n",
    "        \"age\": 25,\n",
    "        \"major\": \"Computer Science\",\n",
    "        \"email\": \"khan@example.com\"\n",
    "    },\n",
    "    \"Jamal\": {\n",
    "        \"age\": 22,\n",
    "        \"major\": \"Physics\",\n",
    "        \"email\": \"jamal@example.com\"\n",
    "    }\n",
    "}\n",
    "student_name = \"Khan\"\n",
    "if student_name in students:\n",
    "   student_info = students[student_name]\n",
    "   print(\"Student Name:\", student_name)\n",
    "   print(\"Age:\", student_info[\"age\"])\n",
    "   print(\"Major:\", student_info[\"major\"])\n",
    "   print(\"Email:\", student_info[\"email\"])   \n",
    "else:\n",
    "    print(\"Student '\" + student_name + \"' not found.\")"
   ]
  }
 ],
 "metadata": {
  "kernelspec": {
   "display_name": "Python 3",
   "language": "python",
   "name": "python3"
  },
  "language_info": {
   "codemirror_mode": {
    "name": "ipython",
    "version": 3
   },
   "file_extension": ".py",
   "mimetype": "text/x-python",
   "name": "python",
   "nbconvert_exporter": "python",
   "pygments_lexer": "ipython3",
   "version": "3.13.2"
  }
 },
 "nbformat": 4,
 "nbformat_minor": 2
}
