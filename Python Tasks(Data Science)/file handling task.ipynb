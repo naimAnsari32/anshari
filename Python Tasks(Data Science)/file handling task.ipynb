{
 "cells": [
  {
   "cell_type": "code",
   "execution_count": 1,
   "metadata": {},
   "outputs": [],
   "source": [
    "#1. Open a file named `\"sample.txt\"` in write mode and write `\"Hello, Python!\"` into it. \n",
    "file = open(\"sample.txt\", \"w\")\n",
    "file.write(\"Hello, Python!\")\n",
    "file.close()"
   ]
  },
  {
   "cell_type": "code",
   "execution_count": null,
   "metadata": {},
   "outputs": [
    {
     "name": "stdout",
     "output_type": "stream",
     "text": [
      "Hello, Python!This is an additional line.This is an additional line.\n"
     ]
    }
   ],
   "source": [
    "#2. Read and print the content of `\"sample.txt\"` using the `read()` method. \n",
    "\n",
    "file = open(\"sample.txt\", \"r\")\n",
    "content = file.read()\n",
    "print(content)\n",
    "file.close()"
   ]
  },
  {
   "cell_type": "code",
   "execution_count": null,
   "metadata": {},
   "outputs": [],
   "source": [
    "#3. Open `\"sample.txt\"` in append mode and add `\"This is an additional line.\"`\n",
    "\n",
    "file = open(\"sample.txt\", \"a\")\n",
    "file.write(\"This is an additional line.\")\n",
    "file.close()"
   ]
  },
  {
   "cell_type": "code",
   "execution_count": null,
   "metadata": {},
   "outputs": [
    {
     "name": "stdout",
     "output_type": "stream",
     "text": [
      "Hello, Pyt\n"
     ]
    }
   ],
   "source": [
    "#4. Read the first **10 characters** from `\"sample.txt\"` using `read(10)`. \n",
    "\n",
    "file = open(\"sample.txt\", \"r\")\n",
    "first_10_chars = file.read(10)\n",
    "print(first_10_chars)\n",
    "file.close()"
   ]
  },
  {
   "cell_type": "code",
   "execution_count": 12,
   "metadata": {},
   "outputs": [
    {
     "name": "stdout",
     "output_type": "stream",
     "text": [
      "Hello, Python!This is an additional line.This is an additional line.This is an additional line.This is an additional line.This is an additional line.\n"
     ]
    }
   ],
   "source": [
    "#5. Use `readline()` to print the first line of `\"sample.txt\"`.\n",
    "\n",
    "file = open(\"sample.txt\", \"r\")\n",
    "first_line = file.readline()\n",
    "print(first_line)\n",
    "file.close()"
   ]
  },
  {
   "cell_type": "code",
   "execution_count": 13,
   "metadata": {},
   "outputs": [
    {
     "name": "stdout",
     "output_type": "stream",
     "text": [
      "['Hello, Python!This is an additional line.This is an additional line.This is an additional line.This is an additional line.This is an additional line.']\n"
     ]
    }
   ],
   "source": [
    "#6. Read all lines from `\"sample.txt\"` and store them in a list using `readlines()`, then print the list.\n",
    "\n",
    "file = open(\"sample.txt\", \"r\")\n",
    "all_lines = file.readlines()\n",
    "print(all_lines)\n",
    "file.close()"
   ]
  },
  {
   "cell_type": "code",
   "execution_count": 14,
   "metadata": {},
   "outputs": [
    {
     "name": "stdout",
     "output_type": "stream",
     "text": [
      "Hello, Python!This is an additional line.This is an additional line.This is an additional line.This is an additional line.This is an additional line.\n"
     ]
    }
   ],
   "source": [
    "#7. Open a file using the `with` statement and print its content.\n",
    "\n",
    "with open(\"sample.txt\", \"r\") as file:\n",
    "    content = file.read()\n",
    "    print(content)"
   ]
  },
  {
   "cell_type": "code",
   "execution_count": 15,
   "metadata": {},
   "outputs": [
    {
     "name": "stdout",
     "output_type": "stream",
     "text": [
      "Hello, Python!This is an additional line.This is an additional line.This is an additional line.This is an additional line.This is an additional line.\n"
     ]
    }
   ],
   "source": [
    "#8. Check if a file exists before reading it using `os.path.exists(\"sample.txt\")`.\n",
    "\n",
    "import os\n",
    "if os.path.exists(\"sample.txt\"):\n",
    "    with open(\"sample.txt\", \"r\") as file:\n",
    "        content = file.read()\n",
    "        print(content)\n",
    "else:\n",
    "    print(\"File not found!\")"
   ]
  },
  {
   "cell_type": "code",
   "execution_count": 16,
   "metadata": {},
   "outputs": [
    {
     "name": "stdout",
     "output_type": "stream",
     "text": [
      "Input saved to user_input.txt\n"
     ]
    }
   ],
   "source": [
    "#9. Write a program that takes user input and saves it into `\"user_input.txt\"`.\n",
    "\n",
    "# Get user input\n",
    "user_input = input(\"Enter some text: \")\n",
    "# Open the file in write mode\n",
    "with open(\"user_input.txt\", \"w\") as file:\n",
    "    # Write the user input to the file\n",
    "    file.write(user_input)\n",
    "print(\"Input saved to user_input.txt\")"
   ]
  },
  {
   "cell_type": "code",
   "execution_count": 18,
   "metadata": {},
   "outputs": [
    {
     "name": "stdout",
     "output_type": "stream",
     "text": [
      "File copied successfully!\n"
     ]
    }
   ],
   "source": [
    "#10. Write a Python script that copies the contents of `\"sample.txt\"` into a new file `\"copy.txt\"`. \n",
    "\n",
    "# Open the source and destination files\n",
    "with open(\"sample.txt\", \"r\") as source_file, open(\"copy.txt\", \"w\") as destination_file:\n",
    "    # Read content from the source and write to the destination\n",
    "    content = source_file.read()\n",
    "    destination_file.write(content)\n",
    "print(\"File copied successfully!\")"
   ]
  }
 ],
 "metadata": {
  "kernelspec": {
   "display_name": "Python 3",
   "language": "python",
   "name": "python3"
  },
  "language_info": {
   "codemirror_mode": {
    "name": "ipython",
    "version": 3
   },
   "file_extension": ".py",
   "mimetype": "text/x-python",
   "name": "python",
   "nbconvert_exporter": "python",
   "pygments_lexer": "ipython3",
   "version": "3.13.2"
  }
 },
 "nbformat": 4,
 "nbformat_minor": 2
}
