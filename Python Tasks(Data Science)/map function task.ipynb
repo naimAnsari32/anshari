{
 "cells": [
  {
   "cell_type": "code",
   "execution_count": null,
   "metadata": {},
   "outputs": [
    {
     "name": "stdout",
     "output_type": "stream",
     "text": [
      "Squares: [1, 4, 9, 16, 25]\n"
     ]
    }
   ],
   "source": [
    "#1. Write a program using `map()` to convert a list of integers `[1, 2, 3, 4, 5]` into their squares.\n",
    "numbers = [1, 2, 3, 4, 5]\n",
    "squares = list(map(lambda x: x**2, numbers))\n",
    "print(f\"Squares: {squares}\")  "
   ]
  },
  {
   "cell_type": "code",
   "execution_count": null,
   "metadata": {},
   "outputs": [
    {
     "name": "stdout",
     "output_type": "stream",
     "text": [
      "Fahrenheit temperatures: [32.0, 50.0, 68.0, 86.0, 104.0]\n"
     ]
    }
   ],
   "source": [
    "#2. Use `map()` to convert a list of temperatures in Celsius `[0, 10, 20, 30, 40]` to Fahrenheit. \n",
    "celsius_temps = [0, 10, 20, 30, 40]\n",
    "fahrenheit_temps = list(map(lambda c: (9/5)*c + 32, celsius_temps))\n",
    "print(f\"Fahrenheit temperatures: {fahrenheit_temps}\")  "
   ]
  },
  {
   "cell_type": "code",
   "execution_count": null,
   "metadata": {},
   "outputs": [
    {
     "name": "stdout",
     "output_type": "stream",
     "text": [
      "Capitalized names: ['Alice', 'Bob', 'Charlie']\n"
     ]
    }
   ],
   "source": [
    "#3. Given a list of names `[\"alice\", \"bob\", \"charlie\"]`, use `map()` to capitalize each name.  \n",
    "names = [\"alice\", \"bob\", \"charlie\"]\n",
    "capitalized_names = list(map(str.capitalize, names))\n",
    "print(f\"Capitalized names: {capitalized_names}\")  "
   ]
  },
  {
   "cell_type": "code",
   "execution_count": null,
   "metadata": {},
   "outputs": [
    {
     "name": "stdout",
     "output_type": "stream",
     "text": [
      "String representations: ['1', '2', '3', '4', '5']\n"
     ]
    }
   ],
   "source": [
    "#4. Write a program using `map()` to convert a list of numbers `[1, 2, 3, 4, 5]` into their string representations. \n",
    "numbers = [1, 2, 3, 4, 5]\n",
    "string_representations = list(map(str, numbers))\n",
    "print(f\"String representations: {string_representations}\")  "
   ]
  },
  {
   "cell_type": "code",
   "execution_count": null,
   "metadata": {},
   "outputs": [
    {
     "name": "stdout",
     "output_type": "stream",
     "text": [
      "Sums: [5, 7, 9]\n"
     ]
    }
   ],
   "source": [
    "#5. Use `map()` to add corresponding elements of two lists `[1, 2, 3]` and `[4, 5, 6]`.\n",
    "list1 = [1, 2, 3]\n",
    "list2 = [4, 5, 6]\n",
    "sums = list(map(lambda x, y: x + y, list1, list2))\n",
    "print(f\"Sums: {sums}\")  "
   ]
  },
  {
   "cell_type": "code",
   "execution_count": null,
   "metadata": {},
   "outputs": [
    {
     "name": "stdout",
     "output_type": "stream",
     "text": [
      "Multiplied numbers: [6, 12, 18, 24]\n"
     ]
    }
   ],
   "source": [
    "#6. Write a program that uses `map()` with `lambda` to multiply each element in a list `[2, 4, 6, 8]` by 3.\n",
    "numbers = [2, 4, 6, 8]\n",
    "multiplied_numbers = list(map(lambda x: x * 3, numbers))\n",
    "print(f\"Multiplied numbers: {multiplied_numbers}\")  "
   ]
  },
  {
   "cell_type": "code",
   "execution_count": 7,
   "metadata": {},
   "outputs": [
    {
     "name": "stdout",
     "output_type": "stream",
     "text": [
      "Word lengths: [5, 5, 6]\n"
     ]
    }
   ],
   "source": [
    "#7. Convert a list of words `[\"hello\", \"world\", \"python\"]` into their lengths using `map()`.  \n",
    "words = [\"hello\", \"world\", \"python\"]\n",
    "word_lengths = list(map(len, words))\n",
    "print(f\"Word lengths: {word_lengths}\")  "
   ]
  },
  {
   "cell_type": "code",
   "execution_count": 8,
   "metadata": {},
   "outputs": [
    {
     "name": "stdout",
     "output_type": "stream",
     "text": [
      "Integers: [1, 2, 'three', 4, 5]\n"
     ]
    }
   ],
   "source": [
    "#8. Given a list of mixed data types `[1, \"2\", \"three\", 4, \"5\"]`, use `map()` to convert only numeric values to integers. \n",
    "data = [1, \"2\", \"three\", 4, \"5\"]\n",
    "integers = list(map(lambda x: int(x) if str(x).isdigit() else x, data))\n",
    "print(f\"Integers: {integers}\")  "
   ]
  },
  {
   "cell_type": "code",
   "execution_count": 10,
   "metadata": {},
   "outputs": [
    {
     "name": "stdout",
     "output_type": "stream",
     "text": [
      "Cubes: [1, 8, 27, 64, 125]\n"
     ]
    }
   ],
   "source": [
    "#9. Use `map()` to compute the cube of each number in a list `[1, 2, 3, 4, 5]`.\n",
    "numbers = [1, 2, 3, 4, 5]\n",
    "cubes = list(map(lambda x: x**3, numbers))\n",
    "print(f\"Cubes: {cubes}\")  "
   ]
  },
  {
   "cell_type": "code",
   "execution_count": 11,
   "metadata": {},
   "outputs": [
    {
     "name": "stdout",
     "output_type": "stream",
     "text": [
      "Uppercase sentence: THIS IS A SENTENCE\n"
     ]
    }
   ],
   "source": [
    "#10. Write a function that takes a sentence and uses `map()` to convert each word to uppercase.\n",
    "def uppercase_sentence(sentence):\n",
    "    words = sentence.split()\n",
    "    uppercase_words = list(map(str.upper, words))\n",
    "    return \" \".join(uppercase_words)\n",
    "sentence = \"this is a sentence\"\n",
    "uppercase_sentence = uppercase_sentence(sentence)\n",
    "print(f\"Uppercase sentence: {uppercase_sentence}\")  "
   ]
  }
 ],
 "metadata": {
  "kernelspec": {
   "display_name": "Python 3",
   "language": "python",
   "name": "python3"
  },
  "language_info": {
   "codemirror_mode": {
    "name": "ipython",
    "version": 3
   },
   "file_extension": ".py",
   "mimetype": "text/x-python",
   "name": "python",
   "nbconvert_exporter": "python",
   "pygments_lexer": "ipython3",
   "version": "3.13.2"
  }
 },
 "nbformat": 4,
 "nbformat_minor": 2
}
