{
 "cells": [
  {
   "cell_type": "code",
   "execution_count": 2,
   "metadata": {},
   "outputs": [
    {
     "name": "stdout",
     "output_type": "stream",
     "text": [
      "Error: Division by zero\n"
     ]
    }
   ],
   "source": [
    "#1. Write a program that handles a `ZeroDivisionError` when dividing a number by zero.\n",
    "try:\n",
    "    result = 10 / 0  # This will raise a ZeroDivisionError\n",
    "except ZeroDivisionError:\n",
    "    print(\"Error: Division by zero\")"
   ]
  },
  {
   "cell_type": "code",
   "execution_count": null,
   "metadata": {},
   "outputs": [
    {
     "name": "stdout",
     "output_type": "stream",
     "text": [
      "File not found!\n"
     ]
    }
   ],
   "source": [
    "#2. Create a program that asks the user for a number and handles a `ValueError` if the input is not a valid integer.\n",
    "try:\n",
    "    number = int(input(\"Enter an integer: \"))\n",
    "except ValueError:\n",
    "    print(\"Error: Invalid input. Please enter an integer.\")"
   ]
  },
  {
   "cell_type": "code",
   "execution_count": 3,
   "metadata": {},
   "outputs": [
    {
     "name": "stdout",
     "output_type": "stream",
     "text": [
      "File not found!\n"
     ]
    }
   ],
   "source": [
    "#3. Write a program that tries to open a file `\"data.txt\"`, handles a `FileNotFoundError` if the file does not exist, and prints `\"File not found!\"`.\n",
    "try:\n",
    "    with open(\"data.txt\", \"r\") as file:\n",
    "        # Code to read from the file\n",
    "        pass  \n",
    "except FileNotFoundError:\n",
    "    print(\"File not found!\")"
   ]
  },
  {
   "cell_type": "code",
   "execution_count": 4,
   "metadata": {},
   "outputs": [
    {
     "name": "stdout",
     "output_type": "stream",
     "text": [
      "Error: Cannot add a string and an integer.\n"
     ]
    }
   ],
   "source": [
    "#4. Implement a `try-except` block that catches a `TypeError` when adding a string and an integer.\n",
    "try:\n",
    "    result = \"hello\" + 10  # This will raise a TypeError\n",
    "except TypeError:\n",
    "    print(\"Error: Cannot add a string and an integer.\")"
   ]
  },
  {
   "cell_type": "code",
   "execution_count": 5,
   "metadata": {},
   "outputs": [
    {
     "name": "stdout",
     "output_type": "stream",
     "text": [
      "Error: Key not found in dictionary.\n"
     ]
    }
   ],
   "source": [
    "#5. Create a dictionary and attempt to access a key that does not exist, handling the `KeyError`.\n",
    "my_dict = {\"a\": 1, \"b\": 2}\n",
    "\n",
    "try:\n",
    "    value = my_dict[\"c\"]  # Key \"c\" does not exist\n",
    "except KeyError:\n",
    "    print(\"Error: Key not found in dictionary.\")"
   ]
  },
  {
   "cell_type": "code",
   "execution_count": 6,
   "metadata": {},
   "outputs": [
    {
     "name": "stdout",
     "output_type": "stream",
     "text": [
      "No error occurred\n"
     ]
    }
   ],
   "source": [
    "#6. Use a `try-except-else` structure where the `else` block prints `\"No error occurred\"` if no exceptions happen. \n",
    "try:\n",
    "    result = 10 / 2  # No exception will occur here\n",
    "except ZeroDivisionError:\n",
    "    print(\"Error: Division by zero\")\n",
    "else:\n",
    "    print(\"No error occurred\")"
   ]
  },
  {
   "cell_type": "code",
   "execution_count": 7,
   "metadata": {},
   "outputs": [
    {
     "name": "stdout",
     "output_type": "stream",
     "text": [
      "Execution complete\n"
     ]
    }
   ],
   "source": [
    "#7. Write a `try-except-finally` block where the `finally` block prints `\"Execution complete\"` whether an exception occurs or not.\n",
    "try:\n",
    "    file = open(\"my_file.txt\", \"w\")\n",
    "    file.write(\"Hello, world!\")\n",
    "except IOError:\n",
    "    print(\"Error: Could not write to file.\")\n",
    "finally:\n",
    "    file.close()\n",
    "    print(\"Execution complete\")"
   ]
  },
  {
   "cell_type": "code",
   "execution_count": 8,
   "metadata": {},
   "outputs": [
    {
     "name": "stdout",
     "output_type": "stream",
     "text": [
      "Error: Index out of range.\n"
     ]
    }
   ],
   "source": [
    "#8. Create a program that asks the user for an index and safely accesses a list element, handling an `IndexError`. \n",
    "my_list = [1, 2, 3]\n",
    "try:\n",
    "    value = my_list[3]  # Index 3 is out of range\n",
    "except IndexError:\n",
    "    print(\"Error: Index out of range.\")"
   ]
  },
  {
   "cell_type": "code",
   "execution_count": 15,
   "metadata": {},
   "outputs": [
    {
     "name": "stdout",
     "output_type": "stream",
     "text": [
      "An error occurred: division by zero\n"
     ]
    }
   ],
   "source": [
    "#9. Write a function that catches any general exception using `except Exception as e:` and prints the error message.\n",
    "def my_function(x, y):\n",
    "    try:\n",
    "        result = x / y\n",
    "    except Exception as e:\n",
    "        print(f\"An error occurred: {e}\")\n",
    "        result = None  # Assign a default value to result in case of an error\n",
    "    return result\n",
    "my_function(10,0)"
   ]
  },
  {
   "cell_type": "code",
   "execution_count": 13,
   "metadata": {},
   "outputs": [
    {
     "name": "stdout",
     "output_type": "stream",
     "text": [
      "Error: Cannot divide by zero.\n"
     ]
    }
   ],
   "source": [
    "#10. Implement nested exception handling where an outer `try-except` block catches errors that the inner `try-except` block does not handle.\n",
    "try:\n",
    "    # Outer try block\n",
    "    num1 = int(input(\"Enter a number: \"))\n",
    "    try:\n",
    "        # Inner try block\n",
    "        num2 = int(input(\"Enter another number: \"))\n",
    "        result = num1 / num2\n",
    "    except ZeroDivisionError:\n",
    "        print(\"Error: Cannot divide by zero.\")\n",
    "except ValueError:\n",
    "    print(\"Error: Invalid input. Please enter numbers only.\")"
   ]
  }
 ],
 "metadata": {
  "kernelspec": {
   "display_name": "Python 3",
   "language": "python",
   "name": "python3"
  },
  "language_info": {
   "codemirror_mode": {
    "name": "ipython",
    "version": 3
   },
   "file_extension": ".py",
   "mimetype": "text/x-python",
   "name": "python",
   "nbconvert_exporter": "python",
   "pygments_lexer": "ipython3",
   "version": "3.13.2"
  }
 },
 "nbformat": 4,
 "nbformat_minor": 2
}
