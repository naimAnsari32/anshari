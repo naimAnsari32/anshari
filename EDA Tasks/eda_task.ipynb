{
 "cells": [
  {
   "cell_type": "code",
   "execution_count": 40,
   "metadata": {},
   "outputs": [
    {
     "data": {
      "text/html": [
       "<div>\n",
       "<style scoped>\n",
       "    .dataframe tbody tr th:only-of-type {\n",
       "        vertical-align: middle;\n",
       "    }\n",
       "\n",
       "    .dataframe tbody tr th {\n",
       "        vertical-align: top;\n",
       "    }\n",
       "\n",
       "    .dataframe thead th {\n",
       "        text-align: right;\n",
       "    }\n",
       "</style>\n",
       "<table border=\"1\" class=\"dataframe\">\n",
       "  <thead>\n",
       "    <tr style=\"text-align: right;\">\n",
       "      <th></th>\n",
       "      <th>Employee_ID</th>\n",
       "      <th>Name</th>\n",
       "      <th>Age</th>\n",
       "      <th>Department</th>\n",
       "      <th>Salary</th>\n",
       "      <th>Joining_Date</th>\n",
       "      <th>City</th>\n",
       "    </tr>\n",
       "  </thead>\n",
       "  <tbody>\n",
       "    <tr>\n",
       "      <th>0</th>\n",
       "      <td>101</td>\n",
       "      <td>John Doe</td>\n",
       "      <td>28</td>\n",
       "      <td>IT</td>\n",
       "      <td>50000.0</td>\n",
       "      <td>2018-06-15</td>\n",
       "      <td>New York</td>\n",
       "    </tr>\n",
       "    <tr>\n",
       "      <th>1</th>\n",
       "      <td>102</td>\n",
       "      <td>Jane Smith</td>\n",
       "      <td>32</td>\n",
       "      <td>HR</td>\n",
       "      <td>60000.0</td>\n",
       "      <td>2016-09-23</td>\n",
       "      <td>Los Angeles</td>\n",
       "    </tr>\n",
       "    <tr>\n",
       "      <th>2</th>\n",
       "      <td>103</td>\n",
       "      <td>Emily Davis</td>\n",
       "      <td>45</td>\n",
       "      <td>Finance</td>\n",
       "      <td>80000.0</td>\n",
       "      <td>2012-11-04</td>\n",
       "      <td>Chicago</td>\n",
       "    </tr>\n",
       "    <tr>\n",
       "      <th>3</th>\n",
       "      <td>104</td>\n",
       "      <td>Michael Brown</td>\n",
       "      <td>29</td>\n",
       "      <td>IT</td>\n",
       "      <td>55000.0</td>\n",
       "      <td>2019-07-12</td>\n",
       "      <td>New York</td>\n",
       "    </tr>\n",
       "    <tr>\n",
       "      <th>4</th>\n",
       "      <td>105</td>\n",
       "      <td>Chris Wilson</td>\n",
       "      <td>35</td>\n",
       "      <td>Marketing</td>\n",
       "      <td>62000.0</td>\n",
       "      <td>2015-03-19</td>\n",
       "      <td>San Francisco</td>\n",
       "    </tr>\n",
       "  </tbody>\n",
       "</table>\n",
       "</div>"
      ],
      "text/plain": [
       "   Employee_ID           Name  Age Department   Salary Joining_Date  \\\n",
       "0          101       John Doe   28         IT  50000.0   2018-06-15   \n",
       "1          102     Jane Smith   32         HR  60000.0   2016-09-23   \n",
       "2          103    Emily Davis   45    Finance  80000.0   2012-11-04   \n",
       "3          104  Michael Brown   29         IT  55000.0   2019-07-12   \n",
       "4          105   Chris Wilson   35  Marketing  62000.0   2015-03-19   \n",
       "\n",
       "            City  \n",
       "0       New York  \n",
       "1    Los Angeles  \n",
       "2        Chicago  \n",
       "3       New York  \n",
       "4  San Francisco  "
      ]
     },
     "execution_count": 40,
     "metadata": {},
     "output_type": "execute_result"
    }
   ],
   "source": [
    "### 1. Load and Display the Dataset  \n",
    "#- Read the **eda_employee_data.csv** file into a Pandas **DataFrame**.  \n",
    "#- Display the **first 5 rows** using `head()`.\n",
    "\n",
    "import pandas as pd\n",
    "employee_data=pd.read_csv(\"eda_employees_data.csv\")\n",
    "employee_data.head()"
   ]
  },
  {
   "cell_type": "code",
   "execution_count": 2,
   "metadata": {},
   "outputs": [
    {
     "name": "stdout",
     "output_type": "stream",
     "text": [
      "<class 'pandas.core.frame.DataFrame'>\n",
      "RangeIndex: 14 entries, 0 to 13\n",
      "Data columns (total 7 columns):\n",
      " #   Column        Non-Null Count  Dtype  \n",
      "---  ------        --------------  -----  \n",
      " 0   Employee_ID   14 non-null     int64  \n",
      " 1   Name          13 non-null     object \n",
      " 2   Age           14 non-null     int64  \n",
      " 3   Department    14 non-null     object \n",
      " 4   Salary        13 non-null     float64\n",
      " 5   Joining_Date  14 non-null     object \n",
      " 6   City          14 non-null     object \n",
      "dtypes: float64(1), int64(2), object(4)\n",
      "memory usage: 916.0+ bytes\n",
      "None\n",
      "(14, 7)\n"
     ]
    }
   ],
   "source": [
    "### 2. Find Basic Information  \n",
    "#- Display **column names, data types, and missing values** using `info()`.  \n",
    "#- Find the **number of rows and columns** using `shape`.\n",
    "\n",
    "print(employee_data.info())\n",
    "print(employee_data.shape)"
   ]
  },
  {
   "cell_type": "code",
   "execution_count": 4,
   "metadata": {},
   "outputs": [
    {
     "name": "stdout",
     "output_type": "stream",
     "text": [
      "Employee_ID     0\n",
      "Name            1\n",
      "Age             0\n",
      "Department      0\n",
      "Salary          1\n",
      "Joining_Date    0\n",
      "City            0\n",
      "dtype: int64\n"
     ]
    }
   ],
   "source": [
    "### 3. Identify Missing Values  \n",
    "#- Check for **missing values** in each column using `isnull().sum()`.\n",
    "\n",
    "print(employee_data.isnull().sum())"
   ]
  },
  {
   "cell_type": "code",
   "execution_count": 45,
   "metadata": {},
   "outputs": [
    {
     "name": "stderr",
     "output_type": "stream",
     "text": [
      "C:\\Users\\kikuj\\AppData\\Local\\Temp\\ipykernel_6676\\1838870834.py:6: FutureWarning: A value is trying to be set on a copy of a DataFrame or Series through chained assignment using an inplace method.\n",
      "The behavior will change in pandas 3.0. This inplace method will never work because the intermediate object on which we are setting values always behaves as a copy.\n",
      "\n",
      "For example, when doing 'df[col].method(value, inplace=True)', try using 'df.method({col: value}, inplace=True)' or df[col] = df[col].method(value) instead, to perform the operation inplace on the original object.\n",
      "\n",
      "\n",
      "  employee_data['Salary'].fillna(employee_data['Salary'].mean(), inplace=True)\n"
     ]
    }
   ],
   "source": [
    "### 4. Handle Missing Values  \n",
    "#- Fill missing **Names** with `\"Unknown\"`.  \n",
    "#- Fill missing **Salaries** with the **average Salary** of all employees.\n",
    "\n",
    "employee_data['Name'].fillna(\"Unknown\", inplace=True)\n",
    "employee_data['Salary'].fillna(employee_data['Salary'].mean(), inplace=True)"
   ]
  },
  {
   "cell_type": "code",
   "execution_count": 46,
   "metadata": {},
   "outputs": [
    {
     "name": "stdout",
     "output_type": "stream",
     "text": [
      "\n",
      "Number of Duplicate Records: 0\n"
     ]
    }
   ],
   "source": [
    "### 5. Identify and Remove Duplicate Records  \n",
    "#- Check how many duplicate records exist.  \n",
    "#- Remove **duplicate entries** from the dataset.  \n",
    "\n",
    "print(\"\\nNumber of Duplicate Records:\", employee_data.duplicated().sum())\n",
    "employee_data.drop_duplicates(inplace=True)"
   ]
  },
  {
   "cell_type": "code",
   "execution_count": 47,
   "metadata": {},
   "outputs": [
    {
     "name": "stdout",
     "output_type": "stream",
     "text": [
      "\n",
      "Cleaned Dataset:\n",
      "     Employee_ID           Name  Age Department         Salary Joining_Date  \\\n",
      "0           101       John Doe   28         IT   50000.000000   2018-06-15   \n",
      "1           102     Jane Smith   32         HR   60000.000000   2016-09-23   \n",
      "2           103    Emily Davis   45    Finance   80000.000000   2012-11-04   \n",
      "3           104  Michael Brown   29         IT   55000.000000   2019-07-12   \n",
      "4           105   Chris Wilson   35  Marketing   62000.000000   2015-03-19   \n",
      "5           106  Sarah Johnson   40         HR   72000.000000   2014-05-28   \n",
      "6           107      David Lee   50    Finance   95000.000000   2010-12-17   \n",
      "7           108   Robert White   27  Marketing   49000.000000   2020-08-01   \n",
      "8           109        Unknown   30         IT   54000.000000   2019-11-12   \n",
      "9           110     Liam Green   29    Finance   67153.846154   2011-02-14   \n",
      "10          111       John Doe   28         IT   50000.000000   2018-06-15   \n",
      "11          112    Anna Taylor   25         HR   70000.000000   2015-08-10   \n",
      "12          113    Ethan Black   31         IT   56000.000000   2017-05-14   \n",
      "13          114  Olivia Carter   40    Finance  120000.000000   2009-09-09   \n",
      "\n",
      "             City  \n",
      "0        New York  \n",
      "1     Los Angeles  \n",
      "2         Chicago  \n",
      "3        New York  \n",
      "4   San Francisco  \n",
      "5     Los Angeles  \n",
      "6         Chicago  \n",
      "7   San Francisco  \n",
      "8        New York  \n",
      "9         Chicago  \n",
      "10       New York  \n",
      "11    Los Angeles  \n",
      "12       New York  \n",
      "13        Chicago  \n"
     ]
    }
   ],
   "source": [
    "### 6. Correct Incorrect Values  \n",
    "#- Find and **fix negative Age values** by replacing them with the average Age.  \n",
    "\n",
    "employee_data['Age'] = employee_data['Age'].abs()\n",
    "print(\"\\nCleaned Dataset:\\n\", employee_data)\n"
   ]
  },
  {
   "cell_type": "code",
   "execution_count": 48,
   "metadata": {},
   "outputs": [
    {
     "data": {
      "text/html": [
       "<div>\n",
       "<style scoped>\n",
       "    .dataframe tbody tr th:only-of-type {\n",
       "        vertical-align: middle;\n",
       "    }\n",
       "\n",
       "    .dataframe tbody tr th {\n",
       "        vertical-align: top;\n",
       "    }\n",
       "\n",
       "    .dataframe thead th {\n",
       "        text-align: right;\n",
       "    }\n",
       "</style>\n",
       "<table border=\"1\" class=\"dataframe\">\n",
       "  <thead>\n",
       "    <tr style=\"text-align: right;\">\n",
       "      <th></th>\n",
       "      <th>Employee_ID</th>\n",
       "      <th>Age</th>\n",
       "      <th>Salary</th>\n",
       "    </tr>\n",
       "  </thead>\n",
       "  <tbody>\n",
       "    <tr>\n",
       "      <th>count</th>\n",
       "      <td>14.0000</td>\n",
       "      <td>14.000000</td>\n",
       "      <td>14.000000</td>\n",
       "    </tr>\n",
       "    <tr>\n",
       "      <th>mean</th>\n",
       "      <td>107.5000</td>\n",
       "      <td>33.500000</td>\n",
       "      <td>67153.846154</td>\n",
       "    </tr>\n",
       "    <tr>\n",
       "      <th>std</th>\n",
       "      <td>4.1833</td>\n",
       "      <td>7.480745</td>\n",
       "      <td>20010.943751</td>\n",
       "    </tr>\n",
       "    <tr>\n",
       "      <th>min</th>\n",
       "      <td>101.0000</td>\n",
       "      <td>25.000000</td>\n",
       "      <td>49000.000000</td>\n",
       "    </tr>\n",
       "    <tr>\n",
       "      <th>25%</th>\n",
       "      <td>104.2500</td>\n",
       "      <td>28.250000</td>\n",
       "      <td>54250.000000</td>\n",
       "    </tr>\n",
       "    <tr>\n",
       "      <th>50%</th>\n",
       "      <td>107.5000</td>\n",
       "      <td>30.500000</td>\n",
       "      <td>61000.000000</td>\n",
       "    </tr>\n",
       "    <tr>\n",
       "      <th>75%</th>\n",
       "      <td>110.7500</td>\n",
       "      <td>38.750000</td>\n",
       "      <td>71500.000000</td>\n",
       "    </tr>\n",
       "    <tr>\n",
       "      <th>max</th>\n",
       "      <td>114.0000</td>\n",
       "      <td>50.000000</td>\n",
       "      <td>120000.000000</td>\n",
       "    </tr>\n",
       "  </tbody>\n",
       "</table>\n",
       "</div>"
      ],
      "text/plain": [
       "       Employee_ID        Age         Salary\n",
       "count      14.0000  14.000000      14.000000\n",
       "mean      107.5000  33.500000   67153.846154\n",
       "std         4.1833   7.480745   20010.943751\n",
       "min       101.0000  25.000000   49000.000000\n",
       "25%       104.2500  28.250000   54250.000000\n",
       "50%       107.5000  30.500000   61000.000000\n",
       "75%       110.7500  38.750000   71500.000000\n",
       "max       114.0000  50.000000  120000.000000"
      ]
     },
     "execution_count": 48,
     "metadata": {},
     "output_type": "execute_result"
    }
   ],
   "source": [
    "### 7. View Summary Statistics  \n",
    "#- Get summary statistics for **numerical columns** using `describe()`.\n",
    "employee_data.describe()\n"
   ]
  },
  {
   "cell_type": "code",
   "execution_count": 50,
   "metadata": {},
   "outputs": [
    {
     "name": "stdout",
     "output_type": "stream",
     "text": [
      "\n",
      "Department Statistics:\n",
      "             Employee_Count  Average_Salary\n",
      "Department                                \n",
      "Finance                  4    90538.461538\n",
      "HR                       3    67333.333333\n",
      "IT                       5    53000.000000\n",
      "Marketing                2    55500.000000\n"
     ]
    }
   ],
   "source": [
    "### 8. Group Employees by Department  \n",
    "#- Count the number of employees in each **Department**.  \n",
    "#- Find the **average Salary** for each **Department**.  \n",
    "\n",
    "department_stats = employee_data.groupby('Department').agg(\n",
    "    Employee_Count=('Employee_ID', 'count'),  # Count employees\n",
    "    Average_Salary=('Salary', 'mean')        # Calculate average salary\n",
    ")\n",
    "print(\"\\nDepartment Statistics:\\n\", department_stats)\n"
   ]
  },
  {
   "cell_type": "code",
   "execution_count": 51,
   "metadata": {},
   "outputs": [],
   "source": [
    "### 9. Convert Data Types  \n",
    "#- Convert **Joining_Date** to **datetime** format.  \n",
    "#- Convert **Age** to an integer format.\n",
    "\n",
    "employee_data['Joining_Date'] = pd.to_datetime(employee_data['Joining_Date'])\n",
    "employee_data['Age'] = employee_data['Age'].astype(int)"
   ]
  },
  {
   "cell_type": "code",
   "execution_count": 52,
   "metadata": {},
   "outputs": [
    {
     "name": "stdout",
     "output_type": "stream",
     "text": [
      "\n",
      "Cleaned data saved to cleaned_eda_employee_data.csv\n"
     ]
    }
   ],
   "source": [
    "### 10. Save the Cleaned Data to a New CSV File  \n",
    "#- Save the cleaned dataset as **cleaned_eda_employee_data.csv**.\n",
    "employee_data.to_csv('cleaned_eda_employee_data.csv', index=False) \n",
    "print(\"\\nCleaned data saved to cleaned_eda_employee_data.csv\")\n"
   ]
  }
 ],
 "metadata": {
  "kernelspec": {
   "display_name": "Python 3",
   "language": "python",
   "name": "python3"
  },
  "language_info": {
   "codemirror_mode": {
    "name": "ipython",
    "version": 3
   },
   "file_extension": ".py",
   "mimetype": "text/x-python",
   "name": "python",
   "nbconvert_exporter": "python",
   "pygments_lexer": "ipython3",
   "version": "3.13.2"
  }
 },
 "nbformat": 4,
 "nbformat_minor": 2
}
